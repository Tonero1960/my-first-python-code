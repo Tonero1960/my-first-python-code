{
 "cells": [
  {
   "cell_type": "code",
   "execution_count": 5,
   "metadata": {},
   "outputs": [
    {
     "data": {
      "text/plain": [
       "{'john': 43, 'tonero': 98}"
      ]
     },
     "execution_count": 5,
     "metadata": {},
     "output_type": "execute_result"
    }
   ],
   "source": [
    "{'john' : 43, 'tonero' : 98}\n",
    "{'john' : 43, 'tonero' : 98}\n"
   ]
  },
  {
   "cell_type": "markdown",
   "metadata": {},
   "source": [
    "# arithemetic \n"
   ]
  },
  {
   "cell_type": "code",
   "execution_count": 19,
   "metadata": {},
   "outputs": [
    {
     "data": {
      "text/plain": [
       "58"
      ]
     },
     "execution_count": 19,
     "metadata": {},
     "output_type": "execute_result"
    }
   ],
   "source": [
    " 13 + (45)"
   ]
  },
  {
   "cell_type": "code",
   "execution_count": 1,
   "metadata": {},
   "outputs": [
    {
     "data": {
      "text/plain": [
       "189"
      ]
     },
     "execution_count": 1,
     "metadata": {},
     "output_type": "execute_result"
    }
   ],
   "source": [
    "13 + (14 + 67 + 95)\n"
   ]
  },
  {
   "cell_type": "code",
   "execution_count": 21,
   "metadata": {},
   "outputs": [
    {
     "data": {
      "text/plain": [
       "[1, 2, 3, 4, 5, 6]"
      ]
     },
     "execution_count": 21,
     "metadata": {},
     "output_type": "execute_result"
    }
   ],
   "source": [
    "[1,2,3] + [4,5,6]"
   ]
  },
  {
   "cell_type": "code",
   "execution_count": 22,
   "metadata": {},
   "outputs": [
    {
     "data": {
      "text/plain": [
       "'tonytonytony'"
      ]
     },
     "execution_count": 22,
     "metadata": {},
     "output_type": "execute_result"
    }
   ],
   "source": [
    "'tony' * 3"
   ]
  },
  {
   "cell_type": "markdown",
   "metadata": {},
   "source": [
    "# variables and values"
   ]
  },
  {
   "cell_type": "code",
   "execution_count": 23,
   "metadata": {},
   "outputs": [],
   "source": [
    "a = 6\n",
    "b = 11"
   ]
  },
  {
   "cell_type": "code",
   "execution_count": 25,
   "metadata": {},
   "outputs": [
    {
     "data": {
      "text/plain": [
       "66"
      ]
     },
     "execution_count": 25,
     "metadata": {},
     "output_type": "execute_result"
    }
   ],
   "source": [
    "a*b"
   ]
  },
  {
   "cell_type": "code",
   "execution_count": 26,
   "metadata": {},
   "outputs": [
    {
     "data": {
      "text/plain": [
       "True"
      ]
     },
     "execution_count": 26,
     "metadata": {},
     "output_type": "execute_result"
    }
   ],
   "source": [
    "5 == 5"
   ]
  },
  {
   "cell_type": "code",
   "execution_count": 27,
   "metadata": {},
   "outputs": [
    {
     "data": {
      "text/plain": [
       "False"
      ]
     },
     "execution_count": 27,
     "metadata": {},
     "output_type": "execute_result"
    }
   ],
   "source": [
    "5<5"
   ]
  },
  {
   "cell_type": "code",
   "execution_count": 28,
   "metadata": {},
   "outputs": [
    {
     "data": {
      "text/plain": [
       "True"
      ]
     },
     "execution_count": 28,
     "metadata": {},
     "output_type": "execute_result"
    }
   ],
   "source": [
    "5<=5"
   ]
  },
  {
   "cell_type": "code",
   "execution_count": 30,
   "metadata": {},
   "outputs": [
    {
     "data": {
      "text/plain": [
       "False"
      ]
     },
     "execution_count": 30,
     "metadata": {},
     "output_type": "execute_result"
    }
   ],
   "source": [
    "'dog' == 'cat'"
   ]
  },
  {
   "cell_type": "code",
   "execution_count": 31,
   "metadata": {},
   "outputs": [
    {
     "data": {
      "text/plain": [
       "False"
      ]
     },
     "execution_count": 31,
     "metadata": {},
     "output_type": "execute_result"
    }
   ],
   "source": [
    "5 == 5 and 6>=10"
   ]
  },
  {
   "cell_type": "code",
   "execution_count": 32,
   "metadata": {},
   "outputs": [
    {
     "data": {
      "text/plain": [
       "True"
      ]
     },
     "execution_count": 32,
     "metadata": {},
     "output_type": "execute_result"
    }
   ],
   "source": [
    "5 == 5 or 6 >= 10\n"
   ]
  },
  {
   "cell_type": "code",
   "execution_count": 15,
   "metadata": {},
   "outputs": [
    {
     "data": {
      "text/plain": [
       "10"
      ]
     },
     "execution_count": 15,
     "metadata": {},
     "output_type": "execute_result"
    }
   ],
   "source": [
    "# indexing examples\n",
    "\n",
    "a = [12,35,45,87,91]\n",
    "b = (43,62,63,88,10)\n",
    "c = {'Geo':98,'Leo':78,'peo':85}\n",
    "\n",
    "a[3]\n",
    "b[3]\n",
    "b[-1]\n",
    "     "
   ]
  },
  {
   "cell_type": "code",
   "execution_count": 31,
   "metadata": {},
   "outputs": [
    {
     "data": {
      "text/plain": [
       "98"
      ]
     },
     "execution_count": 31,
     "metadata": {},
     "output_type": "execute_result"
    }
   ],
   "source": [
    "\n",
    "c['Leo']\n",
    "c['Geo']"
   ]
  },
  {
   "cell_type": "code",
   "execution_count": 21,
   "metadata": {},
   "outputs": [
    {
     "name": "stdout",
     "output_type": "stream",
     "text": [
      " what is my name? Tonero\n",
      " what is your age? 35\n",
      "my Name is Tonero and i am 35  years old\n"
     ]
    }
   ],
   "source": [
    "name = input(' what is my name? ')\n",
    "age =  input(' what is your age? ')\n",
    "\n",
    "sentence = \"my Name is \" +  name + \" and i am \" + age + \"  years old\"\n",
    "print(sentence)"
   ]
  },
  {
   "cell_type": "code",
   "execution_count": 22,
   "metadata": {},
   "outputs": [
    {
     "data": {
      "text/plain": [
       "'12'"
      ]
     },
     "execution_count": 22,
     "metadata": {},
     "output_type": "execute_result"
    }
   ],
   "source": [
    "str(12)"
   ]
  },
  {
   "cell_type": "code",
   "execution_count": 23,
   "metadata": {},
   "outputs": [
    {
     "name": "stdout",
     "output_type": "stream",
     "text": [
      " what is my name? Tonero\n",
      " what is your age? 35\n",
      " My name is Tonero and i am 35 years old \n"
     ]
    }
   ],
   "source": [
    "# using formatted string \n",
    "\n",
    "name = input(' what is my name? ')\n",
    "age =  input(' what is your age? ')\n",
    "\n",
    "sentence = f\" My name is {name} and i am {age} years old \"\n",
    "print(sentence)"
   ]
  },
  {
   "cell_type": "code",
   "execution_count": 35,
   "metadata": {},
   "outputs": [
    {
     "data": {
      "text/plain": [
       "[23, 24, 35, 67, 107]"
      ]
     },
     "execution_count": 35,
     "metadata": {},
     "output_type": "execute_result"
    }
   ],
   "source": [
    "a = [23,24,35,67]\n",
    "b = (45,46,47,87)\n",
    "\n",
    "a.append(107)\n",
    "a\n"
   ]
  },
  {
   "cell_type": "code",
   "execution_count": null,
   "metadata": {},
   "outputs": [],
   "source": [
    "# we use a[] for indexing and a.append() to add to a list"
   ]
  },
  {
   "cell_type": "code",
   "execution_count": 2,
   "metadata": {},
   "outputs": [
    {
     "data": {
      "text/plain": [
       "[107, 23, 24, 35, 67]"
      ]
     },
     "execution_count": 2,
     "metadata": {},
     "output_type": "execute_result"
    }
   ],
   "source": [
    "a = [23,24,35,67]\n",
    "b = (45,46,47,87)\n",
    "\n",
    "a.insert(0,107 )\n",
    "a\n",
    "\n",
    "# WE USE INSERT TO ADD EXACTLY WHERE U WANT IN A LIST USING INDEXING AND OBJECT \n",
    "# CLEAR IS USED TO CLEAR ALL ITEM IN A LIST AND POP TO REMOVE LAST ITEM IN A LIST\n",
    "# in or a.indext(47)used to check for particular index in a list\n"
   ]
  },
  {
   "cell_type": "code",
   "execution_count": 8,
   "metadata": {},
   "outputs": [
    {
     "data": {
      "text/plain": [
       "[23, 24, 35, 67]"
      ]
     },
     "execution_count": 8,
     "metadata": {},
     "output_type": "execute_result"
    }
   ],
   "source": [
    "a = [23,24,35,67,107]\n",
    "b = (45,46,47,87)\n",
    "\n",
    "a.remove(107)\n",
    "a\n"
   ]
  },
  {
   "cell_type": "code",
   "execution_count": 12,
   "metadata": {},
   "outputs": [
    {
     "name": "stdout",
     "output_type": "stream",
     "text": [
      "[2, 4, 5, 6, 7, 9, 43, 54, 87]\n"
     ]
    }
   ],
   "source": [
    "numbers = [54,43,2,5,87,9,7,6,4]\n",
    "numbers.sort()\n",
    "print(numbers)"
   ]
  },
  {
   "cell_type": "code",
   "execution_count": 9,
   "metadata": {},
   "outputs": [
    {
     "data": {
      "text/plain": [
       "['tonero', 'tems', 'ade', 'tonero big']"
      ]
     },
     "execution_count": 9,
     "metadata": {},
     "output_type": "execute_result"
    }
   ],
   "source": [
    "a = ['tonero','tems','ade']\n",
    "b = ('tonero','ade','ola')\n",
    "\n",
    "a.append('tonero big')\n",
    "a\n"
   ]
  },
  {
   "cell_type": "markdown",
   "metadata": {},
   "source": [
    "# assignments\n",
    "\n"
   ]
  },
  {
   "cell_type": "code",
   "execution_count": 10,
   "metadata": {},
   "outputs": [
    {
     "name": "stdout",
     "output_type": "stream",
     "text": [
      "what's your name? Tonero\n",
      "what's your age? 35\n",
      " Hello Tonero,you are 35 years old and will be 45 years old in ten years time \n"
     ]
    }
   ],
   "source": [
    "name = input(\"what's your name? \")\n",
    "age = input(\"what's your age? \")\n",
    "new_age = int(age) + 10\n",
    "\n",
    "sentence = f\" Hello {name},you are {age} years old and will be {new_age} years old in ten years time \"\n",
    "print(sentence)"
   ]
  },
  {
   "cell_type": "code",
   "execution_count": 1,
   "metadata": {},
   "outputs": [
    {
     "name": "stdout",
     "output_type": "stream",
     "text": [
      "P: 50\n",
      "R: 40\n",
      "T: 10\n",
      "200.0\n"
     ]
    }
   ],
   "source": [
    "principal = int(input(\"P: \"))\n",
    "rate = int(input(\"R: \"))\n",
    "time = int(input(\"T: \"))\n",
    "calculation = (principal * rate * time)/100\n",
    "print(calculation)"
   ]
  },
  {
   "cell_type": "code",
   "execution_count": 1,
   "metadata": {},
   "outputs": [
    {
     "name": "stdout",
     "output_type": "stream",
     "text": [
      "principal: 50\n",
      "rate: 40\n",
      "time: 10\n",
      "200.0\n"
     ]
    }
   ],
   "source": [
    "p = int(input(\"principal: \"))\n",
    "r = float(input(\"rate: \"))\n",
    "t = int(input(\"time: \"))\n",
    "\n",
    "calculation = (p*r*t)/100\n",
    "print(calculation)"
   ]
  },
  {
   "cell_type": "code",
   "execution_count": 2,
   "metadata": {},
   "outputs": [
    {
     "data": {
      "text/plain": [
       "True"
      ]
     },
     "execution_count": 2,
     "metadata": {},
     "output_type": "execute_result"
    }
   ],
   "source": [
    "a = [1,2,3,4,5,6]\n",
    "\n",
    "1 in a\n"
   ]
  },
  {
   "cell_type": "code",
   "execution_count": 3,
   "metadata": {},
   "outputs": [
    {
     "data": {
      "text/plain": [
       "False"
      ]
     },
     "execution_count": 3,
     "metadata": {},
     "output_type": "execute_result"
    }
   ],
   "source": [
    "7 in a"
   ]
  },
  {
   "cell_type": "markdown",
   "metadata": {},
   "source": [
    "# conditional statement"
   ]
  },
  {
   "cell_type": "code",
   "execution_count": 6,
   "metadata": {},
   "outputs": [
    {
     "name": "stdout",
     "output_type": "stream",
     "text": [
      "enter a value 110\n",
      "Number entered is above 100\n"
     ]
    }
   ],
   "source": [
    "a = int(input(\"enter a value \"))\n",
    "\n",
    "if a > 100 :\n",
    "    print('Number entered is above 100')"
   ]
  },
  {
   "cell_type": "code",
   "execution_count": 11,
   "metadata": {},
   "outputs": [
    {
     "name": "stdout",
     "output_type": "stream",
     "text": [
      "enter a value: 100\n",
      "100\n"
     ]
    }
   ],
   "source": [
    "a = int(input(\"enter a value: \"))\n",
    "\n",
    "if a > 100 :\n",
    "    print('Number entered is above 100')\n",
    "    \n",
    "else :\n",
    "    print(a)"
   ]
  },
  {
   "cell_type": "code",
   "execution_count": 4,
   "metadata": {},
   "outputs": [
    {
     "name": "stdout",
     "output_type": "stream",
     "text": [
      " Name: Tonero\n",
      "Age: 35\n",
      " congratulations Tonero, you are eligible to play\n"
     ]
    }
   ],
   "source": [
    "name = input(\" Name: \")\n",
    "age = int(input(\"Age: \"))\n",
    "\n",
    "if age >= 18 :\n",
    "    print(f\" congratulations {name}, you are eligible to play\" )\n",
    "    \n",
    "else :\n",
    "    print(f\" sorry {name}, your not up to 18\")"
   ]
  },
  {
   "cell_type": "code",
   "execution_count": 10,
   "metadata": {},
   "outputs": [
    {
     "name": "stdout",
     "output_type": "stream",
     "text": [
      "name: Too\n",
      "score: 68\n",
      "B\n"
     ]
    }
   ],
   "source": [
    "student_name = input(\"name: \")\n",
    "score = int(input(\"score: \"))\n",
    "a = 75-100\n",
    "b = 60-69\n",
    "c = 50-59\n",
    "d = 45-49\n",
    "e = 40-44\n",
    "f = 0-39\n",
    "\n",
    "if score >= 75 :\n",
    "    print(\"A\")\n",
    "elif score >= 60:\n",
    "    print(\"B\")\n",
    "elif score >= 50 :\n",
    "    print(\"C\")\n",
    "elif score >= 45 :\n",
    "    print(\"D\")\n",
    "elif score >= 40 :\n",
    "    print(\"E\")\n",
    "else :\n",
    "    print(\"F\")"
   ]
  },
  {
   "cell_type": "code",
   "execution_count": 27,
   "metadata": {},
   "outputs": [
    {
     "name": "stdout",
     "output_type": "stream",
     "text": [
      "welcome to genesis pizza\n",
      "what is the size of pizza? S,M,L S\n",
      "Do you want peperoni? yes or no yes\n",
      "Do you want extra cheese? yes or no yes\n",
      "1800\n"
     ]
    }
   ],
   "source": [
    "\n",
    "print(\"welcome to genesis pizza\")\n",
    "size = input(\"what is the size of pizza? S,M,L \").upper()\n",
    "add_peperoni = input(\"Do you want peperoni? yes or no \")\n",
    "extra_cheese = input(\"Do you want extra cheese? yes or no \")\n",
    "\n",
    "bill = 0\n",
    "\n",
    "if size == \"S\" :\n",
    "    bill = bill + 1500\n",
    "    \n",
    "elif size == \"M\" :\n",
    "    bill = bill + 2000\n",
    "    \n",
    "elif size == \"L\" :\n",
    "    bill = bill + 2500\n",
    "    \n",
    "if add_peperoni == \"yes\" :\n",
    "    if size == \"S\":\n",
    "        bill = bill + 200\n",
    "    else:\n",
    "        bill = bill + 300\n",
    "\n",
    "if extra_cheese == \"yes\":\n",
    "    bill = bill + 100\n",
    "    \n",
    "print(bill)\n",
    "\n",
    "    \n",
    "\n",
    "\n",
    "\n",
    "\n"
   ]
  },
  {
   "cell_type": "code",
   "execution_count": null,
   "metadata": {},
   "outputs": [],
   "source": []
  },
  {
   "cell_type": "markdown",
   "metadata": {},
   "source": [
    "# while loop"
   ]
  },
  {
   "cell_type": "code",
   "execution_count": 17,
   "metadata": {},
   "outputs": [
    {
     "name": "stdout",
     "output_type": "stream",
     "text": [
      "Hello, word\n",
      "Hello, word\n",
      "Hello, word\n",
      "Hello, word\n",
      "Hello, word\n",
      "finished\n"
     ]
    }
   ],
   "source": [
    "spam = 0\n",
    "while spam < 5 :\n",
    "    print(\"Hello, word\")\n",
    "    spam = spam + 1\n"
   ]
  },
  {
   "cell_type": "code",
   "execution_count": 1,
   "metadata": {},
   "outputs": [
    {
     "name": "stdout",
     "output_type": "stream",
     "text": [
      "shola is a bigger guy\n",
      "shola is a bigger guy\n",
      "shola is a bigger guy\n"
     ]
    }
   ],
   "source": [
    "shola = 0\n",
    "while shola < 3 :\n",
    "    print(\"shola is a bigger guy\")\n",
    "    shola  += 1"
   ]
  },
  {
   "cell_type": "code",
   "execution_count": 21,
   "metadata": {},
   "outputs": [
    {
     "data": {
      "text/plain": [
       "[2, 3, 4]"
      ]
     },
     "execution_count": 21,
     "metadata": {},
     "output_type": "execute_result"
    }
   ],
   "source": [
    "list (range(2,5))"
   ]
  },
  {
   "cell_type": "code",
   "execution_count": 22,
   "metadata": {},
   "outputs": [
    {
     "data": {
      "text/plain": [
       "[0, 2, 4, 6, 8]"
      ]
     },
     "execution_count": 22,
     "metadata": {},
     "output_type": "execute_result"
    }
   ],
   "source": [
    "list (range(0,10,2))"
   ]
  },
  {
   "cell_type": "code",
   "execution_count": 30,
   "metadata": {},
   "outputs": [
    {
     "data": {
      "text/plain": [
       "2550"
      ]
     },
     "execution_count": 30,
     "metadata": {},
     "output_type": "execute_result"
    }
   ],
   "source": [
    "a = sum(range(0, 101 , 2))\n",
    "a"
   ]
  },
  {
   "cell_type": "code",
   "execution_count": 36,
   "metadata": {},
   "outputs": [
    {
     "data": {
      "text/plain": [
       "51"
      ]
     },
     "execution_count": 36,
     "metadata": {},
     "output_type": "execute_result"
    }
   ],
   "source": [
    "b = len(range(0,101,2))\n",
    "b"
   ]
  },
  {
   "cell_type": "code",
   "execution_count": 34,
   "metadata": {},
   "outputs": [
    {
     "name": "stdout",
     "output_type": "stream",
     "text": [
      "50.0\n"
     ]
    }
   ],
   "source": [
    "average = a/b\n",
    "print(average)"
   ]
  },
  {
   "cell_type": "code",
   "execution_count": null,
   "metadata": {},
   "outputs": [],
   "source": [
    "a = sum(range (0,201,2))\n",
    "b = len(range(0,201,2))\n",
    "c = a/b\n",
    "print(a)\n",
    "print(b)\n",
    "print(c)"
   ]
  },
  {
   "cell_type": "code",
   "execution_count": 1,
   "metadata": {},
   "outputs": [
    {
     "name": "stdout",
     "output_type": "stream",
     "text": [
      "tonero\n",
      "tonero\n"
     ]
    }
   ],
   "source": [
    "tony = 1\n",
    "while tony < 4:\n",
    "    print(\"tonero\")\n",
    "    tony = tony + 2"
   ]
  },
  {
   "cell_type": "code",
   "execution_count": 1,
   "metadata": {},
   "outputs": [
    {
     "name": "stdout",
     "output_type": "stream",
     "text": [
      "0\n",
      "Hello, how are you\n",
      "1\n",
      "Hello, how are you\n",
      "2\n",
      "Hello, how are you\n",
      "3\n",
      "Hello, how are you\n"
     ]
    }
   ],
   "source": [
    "for i in range(4):\n",
    "    print(i)\n",
    "    print(\"Hello, how are you\")"
   ]
  },
  {
   "cell_type": "code",
   "execution_count": 2,
   "metadata": {},
   "outputs": [
    {
     "name": "stdout",
     "output_type": "stream",
     "text": [
      "5\n",
      "4\n",
      "3\n",
      "2\n",
      "1\n",
      "0\n"
     ]
    }
   ],
   "source": [
    "for i in range(5,-1,-1):\n",
    "    print(i)"
   ]
  },
  {
   "cell_type": "code",
   "execution_count": 3,
   "metadata": {},
   "outputs": [
    {
     "name": "stdout",
     "output_type": "stream",
     "text": [
      "what is the password\n",
      "Enter your passwordpassword\n"
     ]
    }
   ],
   "source": [
    "password = \"\"\n",
    "while password != \"password\":\n",
    "    print(\"what is the password\")\n",
    "    password= input(\"Enter your password \")"
   ]
  },
  {
   "cell_type": "code",
   "execution_count": 1,
   "metadata": {},
   "outputs": [
    {
     "name": "stdout",
     "output_type": "stream",
     "text": [
      "what is the password\n",
      "Enter your password tonero\n"
     ]
    }
   ],
   "source": [
    "password = \"\"\n",
    "while password != \"tonero\":\n",
    "    print(\"what is the password\")\n",
    "    password = input(\"Enter your password \")\n",
    "    \n",
    "    "
   ]
  },
  {
   "cell_type": "code",
   "execution_count": null,
   "metadata": {},
   "outputs": [],
   "source": [
    "import random\n",
    "random.randint(1,25)"
   ]
  },
  {
   "cell_type": "code",
   "execution_count": 10,
   "metadata": {},
   "outputs": [
    {
     "name": "stdout",
     "output_type": "stream",
     "text": [
      "Welcome, guess a number between 1 to 25\n",
      "guess4\n",
      "Welcome, guess a number between 1 to 25\n",
      "guess12\n",
      "Welcome, guess a number between 1 to 25\n",
      "guess13\n",
      " you guessed the number in 3 ties\n"
     ]
    }
   ],
   "source": [
    "# Guess that number\n",
    "\n",
    "number = random.randint(1,25)\n",
    "number_of_guess = 0\n",
    "guest_limit = 3\n",
    "\n",
    "while number_of_guess < guest_limit :\n",
    "    print(\"Welcome, guess a number between 1 to 25\")\n",
    "    guess = int(input(\"guess\"))\n",
    "    number_of_guess = number_of_guess + 1\n",
    "    \n",
    "    if guess == number:\n",
    "        break\n",
    "if guess== number:\n",
    "    print(f\" you guessed the number in {number_of_guess} ties\")\n",
    "else :\n",
    "    print(f\" you didnt' guess the number. The number was {number}\")"
   ]
  },
  {
   "cell_type": "code",
   "execution_count": 18,
   "metadata": {},
   "outputs": [
    {
     "name": "stdout",
     "output_type": "stream",
     "text": [
      "Welcome, guess a number between 1 to 25\n",
      "guess: 5\n",
      "Welcome, guess a number between 1 to 25\n",
      "guess: 6\n",
      "Welcome, guess a number between 1 to 25\n",
      "guess: 8\n",
      "sorry, you failed. The right answer is  10\n"
     ]
    }
   ],
   "source": [
    "\n",
    "number = 10\n",
    "number_of_guess = 0\n",
    "guest_limit = 3\n",
    "\n",
    "while number_of_guess < guest_limit :\n",
    "    print(\"Welcome, guess a number between 1 to 25\")\n",
    "    guess = int(input(\"guess: \"))\n",
    "    number_of_guess = number_of_guess + 1\n",
    "    \n",
    "    if guess == number :\n",
    "        print(\"you won\")\n",
    "        break\n",
    "    \n",
    "else :\n",
    "    print(f\"sorry, you failed. The right answer is  {number}\")"
   ]
  },
  {
   "cell_type": "code",
   "execution_count": 19,
   "metadata": {},
   "outputs": [
    {
     "name": "stdout",
     "output_type": "stream",
     "text": [
      "pls type your name \n",
      "what's your name? tonero\n",
      "Thank you!\n"
     ]
    }
   ],
   "source": [
    "names = \"tonero\"\n",
    "while True :\n",
    "    print(\"pls type your name \")\n",
    "    name = input(\"what's your name? \")\n",
    "    if name == names:\n",
    "        break\n",
    "        \n",
    "print(\"Thank you!\")\n",
    "\n",
    "        \n",
    "    "
   ]
  },
  {
   "cell_type": "code",
   "execution_count": 23,
   "metadata": {},
   "outputs": [
    {
     "name": "stdout",
     "output_type": "stream",
     "text": [
      "who are you! \n",
      "name: teeman\n",
      "who are you! \n",
      "name: tee man\n",
      "enter password! tee man tee2345\n"
     ]
    }
   ],
   "source": [
    "while True :\n",
    "    print(\"who are you! \" )\n",
    "    name = input(\"name: \" )\n",
    "    if name != \"tee man\":\n",
    "        continue\n",
    "    password = input(\"enter password! tee man \" )\n",
    "    if password == \"tee2345\":\n",
    "        break\n",
    "    "
   ]
  },
  {
   "cell_type": "code",
   "execution_count": 21,
   "metadata": {},
   "outputs": [
    {
     "name": "stdout",
     "output_type": "stream",
     "text": [
      "what's your name? tonero\n",
      "Thank you!\n"
     ]
    }
   ],
   "source": [
    "names = \"\"\n",
    "while names != \"tonero\" :\n",
    "    name = input(\"what's your name? \")\n",
    "    if name == \"tonero\":\n",
    "        break\n",
    "        \n",
    "print(\"Thank you!\")"
   ]
  },
  {
   "cell_type": "code",
   "execution_count": 2,
   "metadata": {},
   "outputs": [
    {
     "name": "stdout",
     "output_type": "stream",
     "text": [
      "who are you? \n",
      "tony\n",
      "who are you? \n",
      "tonero\n",
      "who are you? \n",
      "joe\n",
      "Hello,joe. What is the password? \n",
      "to\n",
      "who are you? \n",
      "joe\n",
      "Hello,joe. What is the password? \n",
      "swordfish\n",
      "Access granted\n"
     ]
    }
   ],
   "source": [
    "while True :\n",
    "    print(\"who are you? \")\n",
    "    name = input()\n",
    "    if name != \"joe\":\n",
    "        continue\n",
    "    print(\"Hello,joe. What is the password? \")\n",
    "    password = input()\n",
    "    \n",
    "    if password == \"swordfish\" :\n",
    "        break\n",
    "print (\"Access granted\")"
   ]
  },
  {
   "cell_type": "code",
   "execution_count": 21,
   "metadata": {},
   "outputs": [
    {
     "name": "stdout",
     "output_type": "stream",
     "text": [
      "welcome to mama nkechi kitchen\n",
      "Do you want? fufu,garri,pounded yam :  pounded yam\n",
      "How many wraps? 1,2,3 : 3\n",
      "what soup do you need? egusi, okro, mixed : mixed\n",
      "what do you want? fish, meat, none :  fish\n",
      "no of protein? 1,2,3:  3\n",
      "2250\n"
     ]
    }
   ],
   "source": [
    "print(\"welcome to mama nkechi kitchen\")\n",
    "available = input(\"Do you want? fufu,garri,pounded yam :  \")\n",
    "No_of_wraps = input(\"How many wraps? 1,2,3 : \")\n",
    "Type_of_soup = input(\"what soup do you need? egusi, okro, mixed : \")\n",
    "protein = input(\"what do you want? fish, meat, none :  \")\n",
    "No_of_protein = input(\"no of protein? 1,2,3:  \")\n",
    "\n",
    "bill = 0\n",
    "\n",
    "if available == \"fufu\":\n",
    "    bill = bill + 50\n",
    "elif available == \"garri\":\n",
    "    bill = bill + 70\n",
    "elif available == \"pounded yam\":\n",
    "    bill = bill + 100\n",
    "    \n",
    "if No_of_wraps == \"1\":\n",
    "    if available == \"fufu\":\n",
    "         bill = bill * 1\n",
    "    elif available == \"garri\":\n",
    "         bill = bill * 1\n",
    "    elif available == \"pounded yam\":\n",
    "         bill = bill * 1\n",
    "\n",
    "elif No_of_wraps == \"2\":\n",
    "    if available == \"fufu\":\n",
    "         bill = bill * 2\n",
    "    elif available == \"garri\":\n",
    "         bill = bill * 2\n",
    "    elif available == \"pounded yam\":\n",
    "        bill = bill * 2\n",
    "        \n",
    "elif No_of_wraps == \"3\":\n",
    "    if available == \"fufu\":\n",
    "         bill = bill * 3\n",
    "    elif available == \"garri\":\n",
    "        bill = bill * 3\n",
    "    elif available == \"pounded yam\":\n",
    "         bill = bill * 3\n",
    "        \n",
    "               \n",
    "if Type_of_soup == \"egusi\":\n",
    "    bill = bill + 200\n",
    "elif Type_of_soup == \"okro\":\n",
    "    bill = bill + 200\n",
    "elif Type_of_soup == \"mixed\":\n",
    "    bill = bill + 300\n",
    "               \n",
    "if protein == \"meat\":\n",
    "    bill = bill + 100\n",
    "elif protein == \"fish\":\n",
    "    bill = bill + 150\n",
    "               \n",
    "if No_of_protein == \"1\":\n",
    "    if protein == \"meat\":\n",
    "        bill = bill * 1\n",
    "    elif protein == \"fish\":\n",
    "        bill = bill * 1\n",
    "\n",
    "if No_of_protein == \"2\":\n",
    "    if protein == \"meat\":\n",
    "        bill = bill * 2\n",
    "    elif protein == \"fish\":\n",
    "        bill = bill * 2\n",
    "               \n",
    "if No_of_protein == \"3\":\n",
    "    if protein == \"meat\":\n",
    "        bill = bill * 3\n",
    "    elif protein == \"fish\":\n",
    "        bill = bill * 3\n",
    "        \n",
    "print(bill)"
   ]
  },
  {
   "cell_type": "code",
   "execution_count": 2,
   "metadata": {},
   "outputs": [
    {
     "name": "stdout",
     "output_type": "stream",
     "text": [
      "welcome to mama nkechi kitchen\n",
      "Do you want? fufu,garri,pounded yam :  pounded yam\n",
      "How many wraps? 1,2,3 : 3\n",
      "what soup do you need? egusi, okro, mixed : egusi\n",
      "what do you want? fish, meat, none :  meat\n",
      "no of protein? 1,2,3:  2\n",
      "700\n"
     ]
    }
   ],
   "source": [
    "print(\"welcome to mama nkechi kitchen\")\n",
    "available = input(\"Do you want? fufu,garri,pounded yam :  \")\n",
    "No_of_wraps = input(\"How many wraps? 1,2,3 : \")\n",
    "Type_of_soup = input(\"what soup do you need? egusi, okro, mixed : \")\n",
    "protein = input(\"what do you want? fish, meat, none :  \")\n",
    "No_of_protein = input(\"no of protein? 1,2,3:  \")\n",
    "\n",
    "bill = 0\n",
    "\n",
    "if available == \"fufu\":\n",
    "    bill = bill + 50\n",
    "elif available == \"garri\":\n",
    "    bill = bill + 70\n",
    "elif available == \"pounded yam\":\n",
    "    bill = bill + 100\n",
    "    \n",
    "if No_of_wraps == \"1\":\n",
    "    if available == \"fufu\":\n",
    "         bill = bill * 1\n",
    "    elif available == \"garri\":\n",
    "         bill = bill * 1\n",
    "    elif available == \"pounded yam\":\n",
    "         bill = bill * 1\n",
    "\n",
    "elif No_of_wraps == \"2\":\n",
    "    if available == \"fufu\":\n",
    "         bill = bill * 2\n",
    "    elif available == \"garri\":\n",
    "         bill = bill * 2\n",
    "    elif available == \"pounded yam\":\n",
    "        bill = bill * 2\n",
    "        \n",
    "elif No_of_wraps == \"3\":\n",
    "    if available == \"fufu\":\n",
    "         bill = bill * 3\n",
    "    elif available == \"garri\":\n",
    "        bill = bill * 3\n",
    "    elif available == \"pounded yam\":\n",
    "         bill = bill * 3\n",
    "        \n",
    "               \n",
    "if Type_of_soup == \"egusi\":\n",
    "    bill = bill + 200\n",
    "elif Type_of_soup == \"okro\":\n",
    "    bill = bill + 200\n",
    "elif Type_of_soup == \"mixed\":\n",
    "    bill = bill + 300\n",
    "               \n",
    "    \n",
    "if protein == \"meat\":\n",
    "    if No_of_protein == \"1\":\n",
    "        bill = (100 * 1) + bill\n",
    "    elif No_of_protein == \"2\":\n",
    "        bill = (100 * 2) + bill\n",
    "    elif No_of_protein == \"3\":\n",
    "        bill = (100 * 3) + bill\n",
    "        \n",
    "elif protein == \"fish\":\n",
    "    if No_of_protein == \"1\":\n",
    "        bill = (150 * 1) + bill\n",
    "    elif No_of_protein == \"2\":\n",
    "        bill = bill = (150 * 2) + bill\n",
    "    elif No_of_protein == \"3\":\n",
    "        bill = bill = (150 * 3) + bill\n",
    "        \n",
    "\n",
    "    \n",
    "    \n",
    "\n",
    "    \n",
    "print(bill)"
   ]
  },
  {
   "cell_type": "code",
   "execution_count": null,
   "metadata": {},
   "outputs": [],
   "source": []
  }
 ],
 "metadata": {
  "kernelspec": {
   "display_name": "Python 3",
   "language": "python",
   "name": "python3"
  },
  "language_info": {
   "codemirror_mode": {
    "name": "ipython",
    "version": 3
   },
   "file_extension": ".py",
   "mimetype": "text/x-python",
   "name": "python",
   "nbconvert_exporter": "python",
   "pygments_lexer": "ipython3",
   "version": "3.7.0"
  }
 },
 "nbformat": 4,
 "nbformat_minor": 2
}
