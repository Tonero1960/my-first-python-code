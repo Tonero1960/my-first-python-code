{
 "cells": [
  {
   "cell_type": "code",
   "execution_count": 1,
   "metadata": {},
   "outputs": [
    {
     "data": {
      "text/plain": [
       "43"
      ]
     },
     "execution_count": 1,
     "metadata": {},
     "output_type": "execute_result"
    }
   ],
   "source": [
    "{'john' : 43, 'tonero' : 98}\n",
    "{'john' : 43, 'tonero' : 98}"
   ]
  },
  {
   "cell_type": "markdown",
   "metadata": {},
   "source": [
    "# arithemetic \n"
   ]
  },
  {
   "cell_type": "code",
   "execution_count": 19,
   "metadata": {},
   "outputs": [
    {
     "data": {
      "text/plain": [
       "58"
      ]
     },
     "execution_count": 19,
     "metadata": {},
     "output_type": "execute_result"
    }
   ],
   "source": [
    " 13 + (45)"
   ]
  },
  {
   "cell_type": "code",
   "execution_count": 1,
   "metadata": {},
   "outputs": [
    {
     "data": {
      "text/plain": [
       "189"
      ]
     },
     "execution_count": 1,
     "metadata": {},
     "output_type": "execute_result"
    }
   ],
   "source": [
    "13 + (14 + 67 + 95)\n"
   ]
  },
  {
   "cell_type": "code",
   "execution_count": 21,
   "metadata": {},
   "outputs": [
    {
     "data": {
      "text/plain": [
       "[1, 2, 3, 4, 5, 6]"
      ]
     },
     "execution_count": 21,
     "metadata": {},
     "output_type": "execute_result"
    }
   ],
   "source": [
    "[1,2,3] + [4,5,6]"
   ]
  },
  {
   "cell_type": "code",
   "execution_count": 22,
   "metadata": {},
   "outputs": [
    {
     "data": {
      "text/plain": [
       "'tonytonytony'"
      ]
     },
     "execution_count": 22,
     "metadata": {},
     "output_type": "execute_result"
    }
   ],
   "source": [
    "'tony' * 3"
   ]
  },
  {
   "cell_type": "markdown",
   "metadata": {},
   "source": [
    "# variables and values"
   ]
  },
  {
   "cell_type": "code",
   "execution_count": 23,
   "metadata": {},
   "outputs": [],
   "source": [
    "a = 6\n",
    "b = 11"
   ]
  },
  {
   "cell_type": "code",
   "execution_count": 25,
   "metadata": {},
   "outputs": [
    {
     "data": {
      "text/plain": [
       "66"
      ]
     },
     "execution_count": 25,
     "metadata": {},
     "output_type": "execute_result"
    }
   ],
   "source": [
    "a*b"
   ]
  },
  {
   "cell_type": "code",
   "execution_count": 26,
   "metadata": {},
   "outputs": [
    {
     "data": {
      "text/plain": [
       "True"
      ]
     },
     "execution_count": 26,
     "metadata": {},
     "output_type": "execute_result"
    }
   ],
   "source": [
    "5 == 5"
   ]
  },
  {
   "cell_type": "code",
   "execution_count": 27,
   "metadata": {},
   "outputs": [
    {
     "data": {
      "text/plain": [
       "False"
      ]
     },
     "execution_count": 27,
     "metadata": {},
     "output_type": "execute_result"
    }
   ],
   "source": [
    "5<5"
   ]
  },
  {
   "cell_type": "code",
   "execution_count": 28,
   "metadata": {},
   "outputs": [
    {
     "data": {
      "text/plain": [
       "True"
      ]
     },
     "execution_count": 28,
     "metadata": {},
     "output_type": "execute_result"
    }
   ],
   "source": [
    "5<=5"
   ]
  },
  {
   "cell_type": "code",
   "execution_count": 30,
   "metadata": {},
   "outputs": [
    {
     "data": {
      "text/plain": [
       "False"
      ]
     },
     "execution_count": 30,
     "metadata": {},
     "output_type": "execute_result"
    }
   ],
   "source": [
    "'dog' == 'cat'"
   ]
  },
  {
   "cell_type": "code",
   "execution_count": 31,
   "metadata": {},
   "outputs": [
    {
     "data": {
      "text/plain": [
       "False"
      ]
     },
     "execution_count": 31,
     "metadata": {},
     "output_type": "execute_result"
    }
   ],
   "source": [
    "5 == 5 and 6>=10"
   ]
  },
  {
   "cell_type": "code",
   "execution_count": 32,
   "metadata": {},
   "outputs": [
    {
     "data": {
      "text/plain": [
       "True"
      ]
     },
     "execution_count": 32,
     "metadata": {},
     "output_type": "execute_result"
    }
   ],
   "source": [
    "5 == 5 or 6 >= 10\n"
   ]
  },
  {
   "cell_type": "code",
   "execution_count": 15,
   "metadata": {},
   "outputs": [
    {
     "data": {
      "text/plain": [
       "10"
      ]
     },
     "execution_count": 15,
     "metadata": {},
     "output_type": "execute_result"
    }
   ],
   "source": [
    "# indexing examples\n",
    "\n",
    "a = [12,35,45,87,91]\n",
    "b = (43,62,63,88,10)\n",
    "c = {'Geo':98,'Leo':78,'peo':85}\n",
    "\n",
    "a[3]\n",
    "b[3]\n",
    "b[-1]\n",
    "     "
   ]
  },
  {
   "cell_type": "code",
   "execution_count": 31,
   "metadata": {},
   "outputs": [
    {
     "data": {
      "text/plain": [
       "98"
      ]
     },
     "execution_count": 31,
     "metadata": {},
     "output_type": "execute_result"
    }
   ],
   "source": [
    "\n",
    "c['Leo']\n",
    "c['Geo']"
   ]
  },
  {
   "cell_type": "code",
   "execution_count": 21,
   "metadata": {},
   "outputs": [
    {
     "name": "stdout",
     "output_type": "stream",
     "text": [
      " what is my name? Tonero\n",
      " what is your age? 35\n",
      "my Name is Tonero and i am 35  years old\n"
     ]
    }
   ],
   "source": [
    "name = input(' what is my name? ')\n",
    "age =  input(' what is your age? ')\n",
    "\n",
    "sentence = \"my Name is \" +  name + \" and i am \" + age + \"  years old\"\n",
    "print(sentence)"
   ]
  },
  {
   "cell_type": "code",
   "execution_count": 22,
   "metadata": {},
   "outputs": [
    {
     "data": {
      "text/plain": [
       "'12'"
      ]
     },
     "execution_count": 22,
     "metadata": {},
     "output_type": "execute_result"
    }
   ],
   "source": [
    "str(12)"
   ]
  },
  {
   "cell_type": "code",
   "execution_count": 23,
   "metadata": {},
   "outputs": [
    {
     "name": "stdout",
     "output_type": "stream",
     "text": [
      " what is my name? Tonero\n",
      " what is your age? 35\n",
      " My name is Tonero and i am 35 years old \n"
     ]
    }
   ],
   "source": [
    "# using formatted string \n",
    "\n",
    "name = input(' what is my name? ')\n",
    "age =  input(' what is your age? ')\n",
    "\n",
    "sentence = f\" My name is {name} and i am {age} years old \"\n",
    "print(sentence)"
   ]
  },
  {
   "cell_type": "code",
   "execution_count": 35,
   "metadata": {},
   "outputs": [
    {
     "data": {
      "text/plain": [
       "[23, 24, 35, 67, 107]"
      ]
     },
     "execution_count": 35,
     "metadata": {},
     "output_type": "execute_result"
    }
   ],
   "source": [
    "a = [23,24,35,67]\n",
    "b = (45,46,47,87)\n",
    "\n",
    "a.append(107)\n",
    "a\n"
   ]
  },
  {
   "cell_type": "code",
   "execution_count": null,
   "metadata": {},
   "outputs": [],
   "source": [
    "# we use a[] for indexing and a.append() to add to a list"
   ]
  },
  {
   "cell_type": "code",
   "execution_count": 2,
   "metadata": {},
   "outputs": [
    {
     "data": {
      "text/plain": [
       "[107, 23, 24, 35, 67]"
      ]
     },
     "execution_count": 2,
     "metadata": {},
     "output_type": "execute_result"
    }
   ],
   "source": [
    "a = [23,24,35,67]\n",
    "b = (45,46,47,87)\n",
    "\n",
    "a.insert(0,107 )\n",
    "a\n",
    "\n",
    "# WE USE INSERT TO ADD EXACTLY WHERE U WANT IN A LIST USING INDEXING AND OBJECT \n",
    "# CLEAR IS USED TO CLEAR ALL ITEM IN A LIST AND POP TO REMOVE LAST ITEM IN A LIST\n",
    "# in or a.indext(47)used to check for particular index in a list\n"
   ]
  },
  {
   "cell_type": "code",
   "execution_count": 8,
   "metadata": {},
   "outputs": [
    {
     "data": {
      "text/plain": [
       "[23, 24, 35, 67]"
      ]
     },
     "execution_count": 8,
     "metadata": {},
     "output_type": "execute_result"
    }
   ],
   "source": [
    "a = [23,24,35,67,107]\n",
    "b = (45,46,47,87)\n",
    "\n",
    "a.remove(107)\n",
    "a\n"
   ]
  },
  {
   "cell_type": "code",
   "execution_count": 12,
   "metadata": {},
   "outputs": [
    {
     "name": "stdout",
     "output_type": "stream",
     "text": [
      "[2, 4, 5, 6, 7, 9, 43, 54, 87]\n"
     ]
    }
   ],
   "source": [
    "numbers = [54,43,2,5,87,9,7,6,4]\n",
    "numbers.sort()\n",
    "print(numbers)"
   ]
  },
  {
   "cell_type": "code",
   "execution_count": 9,
   "metadata": {},
   "outputs": [
    {
     "data": {
      "text/plain": [
       "['tonero', 'tems', 'ade', 'tonero big']"
      ]
     },
     "execution_count": 9,
     "metadata": {},
     "output_type": "execute_result"
    }
   ],
   "source": [
    "a = ['tonero','tems','ade']\n",
    "b = ('tonero','ade','ola')\n",
    "\n",
    "a.append('tonero big')\n",
    "a\n"
   ]
  },
  {
   "cell_type": "markdown",
   "metadata": {},
   "source": [
    "# assignments\n",
    "\n"
   ]
  },
  {
   "cell_type": "code",
   "execution_count": 10,
   "metadata": {},
   "outputs": [
    {
     "name": "stdout",
     "output_type": "stream",
     "text": [
      "what's your name? Tonero\n",
      "what's your age? 35\n",
      " Hello Tonero,you are 35 years old and will be 45 years old in ten years time \n"
     ]
    }
   ],
   "source": [
    "name = input(\"what's your name? \")\n",
    "age = input(\"what's your age? \")\n",
    "new_age = int(age) + 10\n",
    "\n",
    "sentence = f\" Hello {name},you are {age} years old and will be {new_age} years old in ten years time \"\n",
    "print(sentence)"
   ]
  },
  {
   "cell_type": "code",
   "execution_count": 1,
   "metadata": {},
   "outputs": [
    {
     "name": "stdout",
     "output_type": "stream",
     "text": [
      "P: 50\n",
      "R: 40\n",
      "T: 10\n",
      "200.0\n"
     ]
    }
   ],
   "source": [
    "principal = int(input(\"P: \"))\n",
    "rate = int(input(\"R: \"))\n",
    "time = int(input(\"T: \"))\n",
    "calculation = (principal * rate * time)/100\n",
    "print(calculation)"
   ]
  },
  {
   "cell_type": "code",
   "execution_count": 1,
   "metadata": {},
   "outputs": [
    {
     "name": "stdout",
     "output_type": "stream",
     "text": [
      "principal: 50\n",
      "rate: 40\n",
      "time: 10\n",
      "200.0\n"
     ]
    }
   ],
   "source": [
    "p = int(input(\"principal: \"))\n",
    "r = float(input(\"rate: \"))\n",
    "t = int(input(\"time: \"))\n",
    "\n",
    "calculation = (p*r*t)/100\n",
    "print(calculation)"
   ]
  },
  {
   "cell_type": "code",
   "execution_count": 2,
   "metadata": {},
   "outputs": [
    {
     "data": {
      "text/plain": [
       "True"
      ]
     },
     "execution_count": 2,
     "metadata": {},
     "output_type": "execute_result"
    }
   ],
   "source": [
    "a = [1,2,3,4,5,6]\n",
    "\n",
    "1 in a\n"
   ]
  },
  {
   "cell_type": "code",
   "execution_count": 3,
   "metadata": {},
   "outputs": [
    {
     "data": {
      "text/plain": [
       "False"
      ]
     },
     "execution_count": 3,
     "metadata": {},
     "output_type": "execute_result"
    }
   ],
   "source": [
    "7 in a"
   ]
  },
  {
   "cell_type": "markdown",
   "metadata": {},
   "source": [
    "# conditional statement"
   ]
  },
  {
   "cell_type": "code",
   "execution_count": 6,
   "metadata": {},
   "outputs": [
    {
     "name": "stdout",
     "output_type": "stream",
     "text": [
      "enter a value 110\n",
      "Number entered is above 100\n"
     ]
    }
   ],
   "source": [
    "a = int(input(\"enter a value \"))\n",
    "\n",
    "if a > 100 :\n",
    "    print('Number entered is above 100')"
   ]
  },
  {
   "cell_type": "code",
   "execution_count": 11,
   "metadata": {},
   "outputs": [
    {
     "name": "stdout",
     "output_type": "stream",
     "text": [
      "enter a value: 100\n",
      "100\n"
     ]
    }
   ],
   "source": [
    "a = int(input(\"enter a value: \"))\n",
    "\n",
    "if a > 100 :\n",
    "    print('Number entered is above 100')\n",
    "    \n",
    "else :\n",
    "    print(a)"
   ]
  },
  {
   "cell_type": "code",
   "execution_count": 4,
   "metadata": {},
   "outputs": [
    {
     "name": "stdout",
     "output_type": "stream",
     "text": [
      " Name: Tonero\n",
      "Age: 35\n",
      " congratulations Tonero, you are eligible to play\n"
     ]
    }
   ],
   "source": [
    "name = input(\" Name: \")\n",
    "age = int(input(\"Age: \"))\n",
    "\n",
    "if age >= 18 :\n",
    "    print(f\" congratulations {name}, you are eligible to play\" )\n",
    "    \n",
    "else :\n",
    "    print(f\" sorry {name}, your not up to 18\")"
   ]
  },
  {
   "cell_type": "code",
   "execution_count": 10,
   "metadata": {},
   "outputs": [
    {
     "name": "stdout",
     "output_type": "stream",
     "text": [
      "name: Too\n",
      "score: 68\n",
      "B\n"
     ]
    }
   ],
   "source": [
    "student_name = input(\"name: \")\n",
    "score = int(input(\"score: \"))\n",
    "a = 75-100\n",
    "b = 60-69\n",
    "c = 50-59\n",
    "d = 45-49\n",
    "e = 40-44\n",
    "f = 0-39\n",
    "\n",
    "if score >= 75 :\n",
    "    print(\"A\")\n",
    "elif score >= 60:\n",
    "    print(\"B\")\n",
    "elif score >= 50 :\n",
    "    print(\"C\")\n",
    "elif score >= 45 :\n",
    "    print(\"D\")\n",
    "elif score >= 40 :\n",
    "    print(\"E\")\n",
    "else :\n",
    "    print(\"F\")"
   ]
  },
  {
   "cell_type": "code",
   "execution_count": 27,
   "metadata": {},
   "outputs": [
    {
     "name": "stdout",
     "output_type": "stream",
     "text": [
      "welcome to genesis pizza\n",
      "what is the size of pizza? S,M,L S\n",
      "Do you want peperoni? yes or no yes\n",
      "Do you want extra cheese? yes or no yes\n",
      "1800\n"
     ]
    }
   ],
   "source": [
    "\n",
    "print(\"welcome to genesis pizza\")\n",
    "size = input(\"what is the size of pizza? S,M,L \").upper()\n",
    "add_peperoni = input(\"Do you want peperoni? yes or no \")\n",
    "extra_cheese = input(\"Do you want extra cheese? yes or no \")\n",
    "\n",
    "bill = 0\n",
    "\n",
    "if size == \"S\" :\n",
    "    bill = bill + 1500\n",
    "    \n",
    "elif size == \"M\" :\n",
    "    bill = bill + 2000\n",
    "    \n",
    "elif size == \"L\" :\n",
    "    bill = bill + 2500\n",
    "    \n",
    "if add_peperoni == \"yes\" :\n",
    "    if size == \"S\":\n",
    "        bill = bill + 200\n",
    "    else:\n",
    "        bill = bill + 300\n",
    "\n",
    "if extra_cheese == \"yes\":\n",
    "    bill = bill + 100\n",
    "    \n",
    "print(bill)\n",
    "\n",
    "    \n",
    "\n",
    "\n",
    "\n",
    "\n"
   ]
  },
  {
   "cell_type": "code",
   "execution_count": null,
   "metadata": {},
   "outputs": [],
   "source": []
  },
  {
   "cell_type": "markdown",
   "metadata": {},
   "source": [
    "# while loop"
   ]
  },
  {
   "cell_type": "code",
   "execution_count": 17,
   "metadata": {},
   "outputs": [
    {
     "name": "stdout",
     "output_type": "stream",
     "text": [
      "Hello, word\n",
      "Hello, word\n",
      "Hello, word\n",
      "Hello, word\n",
      "Hello, word\n",
      "finished\n"
     ]
    }
   ],
   "source": [
    "spam = 0\n",
    "while spam < 5 :\n",
    "    print(\"Hello, word\")\n",
    "    spam = spam + 1\n"
   ]
  },
  {
   "cell_type": "code",
   "execution_count": 1,
   "metadata": {},
   "outputs": [
    {
     "name": "stdout",
     "output_type": "stream",
     "text": [
      "shola is a bigger guy\n",
      "shola is a bigger guy\n",
      "shola is a bigger guy\n"
     ]
    }
   ],
   "source": [
    "shola = 0\n",
    "while shola < 3 :\n",
    "    print(\"shola is a bigger guy\")\n",
    "    shola  += 1"
   ]
  },
  {
   "cell_type": "code",
   "execution_count": 21,
   "metadata": {},
   "outputs": [
    {
     "data": {
      "text/plain": [
       "[2, 3, 4]"
      ]
     },
     "execution_count": 21,
     "metadata": {},
     "output_type": "execute_result"
    }
   ],
   "source": [
    "list (range(2,5))"
   ]
  },
  {
   "cell_type": "code",
   "execution_count": 22,
   "metadata": {},
   "outputs": [
    {
     "data": {
      "text/plain": [
       "[0, 2, 4, 6, 8]"
      ]
     },
     "execution_count": 22,
     "metadata": {},
     "output_type": "execute_result"
    }
   ],
   "source": [
    "list (range(0,10,2))"
   ]
  },
  {
   "cell_type": "code",
   "execution_count": 30,
   "metadata": {},
   "outputs": [
    {
     "data": {
      "text/plain": [
       "2550"
      ]
     },
     "execution_count": 30,
     "metadata": {},
     "output_type": "execute_result"
    }
   ],
   "source": [
    "a = sum(range(0, 101 , 2))\n",
    "a"
   ]
  },
  {
   "cell_type": "code",
   "execution_count": 36,
   "metadata": {},
   "outputs": [
    {
     "data": {
      "text/plain": [
       "51"
      ]
     },
     "execution_count": 36,
     "metadata": {},
     "output_type": "execute_result"
    }
   ],
   "source": [
    "b = len(range(0,101,2))\n",
    "b"
   ]
  },
  {
   "cell_type": "code",
   "execution_count": 34,
   "metadata": {},
   "outputs": [
    {
     "name": "stdout",
     "output_type": "stream",
     "text": [
      "50.0\n"
     ]
    }
   ],
   "source": [
    "average = a/b\n",
    "print(average)"
   ]
  },
  {
   "cell_type": "code",
   "execution_count": null,
   "metadata": {},
   "outputs": [],
   "source": [
    "a = sum(range (0,201,2))\n",
    "b = len(range(0,201,2))\n",
    "c = a/b\n",
    "print(a)\n",
    "print(b)\n",
    "print(c)"
   ]
  },
  {
   "cell_type": "code",
   "execution_count": 1,
   "metadata": {},
   "outputs": [
    {
     "name": "stdout",
     "output_type": "stream",
     "text": [
      "tonero\n",
      "tonero\n"
     ]
    }
   ],
   "source": [
    "tony = 1\n",
    "while tony < 4:\n",
    "    print(\"tonero\")\n",
    "    tony = tony + 2"
   ]
  },
  {
   "cell_type": "code",
   "execution_count": 1,
   "metadata": {},
   "outputs": [
    {
     "name": "stdout",
     "output_type": "stream",
     "text": [
      "0\n",
      "Hello, how are you\n",
      "1\n",
      "Hello, how are you\n",
      "2\n",
      "Hello, how are you\n",
      "3\n",
      "Hello, how are you\n"
     ]
    }
   ],
   "source": [
    "for i in range(4):\n",
    "    print(i)\n",
    "    print(\"Hello, how are you\")"
   ]
  },
  {
   "cell_type": "code",
   "execution_count": 2,
   "metadata": {},
   "outputs": [
    {
     "name": "stdout",
     "output_type": "stream",
     "text": [
      "5\n",
      "4\n",
      "3\n",
      "2\n",
      "1\n",
      "0\n"
     ]
    }
   ],
   "source": [
    "for i in range(5,-1,-1):\n",
    "    print(i)"
   ]
  },
  {
   "cell_type": "code",
   "execution_count": 3,
   "metadata": {},
   "outputs": [
    {
     "name": "stdout",
     "output_type": "stream",
     "text": [
      "what is the password\n",
      "Enter your passwordpassword\n"
     ]
    }
   ],
   "source": [
    "password = \"\"\n",
    "while password != \"password\":\n",
    "    print(\"what is the password\")\n",
    "    password= input(\"Enter your password \")"
   ]
  },
  {
   "cell_type": "code",
   "execution_count": 1,
   "metadata": {},
   "outputs": [
    {
     "name": "stdout",
     "output_type": "stream",
     "text": [
      "what is the password\n",
      "Enter your password tonero\n"
     ]
    }
   ],
   "source": [
    "password = \"\"\n",
    "while password != \"tonero\":\n",
    "    print(\"what is the password\")\n",
    "    password = input(\"Enter your password \")\n",
    "    \n",
    "    "
   ]
  },
  {
   "cell_type": "code",
   "execution_count": null,
   "metadata": {},
   "outputs": [],
   "source": [
    "import random\n",
    "random.randint(1,25)"
   ]
  },
  {
   "cell_type": "code",
   "execution_count": 1,
   "metadata": {},
   "outputs": [
    {
     "name": "stdout",
     "output_type": "stream",
     "text": [
      "Welcome, guess a number between 1 to 25\n",
      "guess15\n",
      "Welcome, guess a number between 1 to 25\n",
      "guess10\n",
      "Welcome, guess a number between 1 to 25\n",
      "guess9\n",
      " you didnt' guess the number. The number was 2\n"
     ]
    }
   ],
   "source": [
    "# Guess that number\n",
    "import random\n",
    "number = random.randint(1,25)\n",
    "number_of_guess = 0\n",
    "guest_limit = 3\n",
    "\n",
    "while number_of_guess < guest_limit :\n",
    "    print(\"Welcome, guess a number between 1 to 25\")\n",
    "    guess = int(input(\"guess\"))\n",
    "    number_of_guess = number_of_guess + 1\n",
    "    \n",
    "    if guess == number:\n",
    "        break\n",
    "if guess== number:\n",
    "    print(f\" you guessed the number in {number_of_guess} ties\")\n",
    "else :\n",
    "    print(f\" you didnt' guess the number. The number was {number}\")"
   ]
  },
  {
   "cell_type": "code",
   "execution_count": 2,
   "metadata": {},
   "outputs": [
    {
     "name": "stdout",
     "output_type": "stream",
     "text": [
      "Welcome, guess a number between 1 to 25\n",
      "guess: 10\n",
      "you won\n"
     ]
    }
   ],
   "source": [
    "\n",
    "number = 10\n",
    "number_of_guess = 0\n",
    "guest_limit = 3\n",
    "\n",
    "while number_of_guess < guest_limit :\n",
    "    print(\"Welcome, guess a number between 1 to 25\")\n",
    "    guess = int(input(\"guess: \"))\n",
    "    number_of_guess = number_of_guess + 1\n",
    "    \n",
    "    if guess == number :\n",
    "        print(\"you won\")\n",
    "        break\n",
    "    \n",
    "else :\n",
    "    print(f\"sorry, you failed. The right answer is  {number}\")"
   ]
  },
  {
   "cell_type": "code",
   "execution_count": 19,
   "metadata": {},
   "outputs": [
    {
     "name": "stdout",
     "output_type": "stream",
     "text": [
      "pls type your name \n",
      "what's your name? tonero\n",
      "Thank you!\n"
     ]
    }
   ],
   "source": [
    "names = \"tonero\"\n",
    "while True :\n",
    "    print(\"pls type your name \")\n",
    "    name = input(\"what's your name? \")\n",
    "    if name == names:\n",
    "        break\n",
    "        \n",
    "print(\"Thank you!\")\n",
    "\n",
    "        \n",
    "    "
   ]
  },
  {
   "cell_type": "code",
   "execution_count": 23,
   "metadata": {},
   "outputs": [
    {
     "name": "stdout",
     "output_type": "stream",
     "text": [
      "who are you! \n",
      "name: teeman\n",
      "who are you! \n",
      "name: tee man\n",
      "enter password! tee man tee2345\n"
     ]
    }
   ],
   "source": [
    "while True :\n",
    "    print(\"who are you! \" )\n",
    "    name = input(\"name: \" )\n",
    "    if name != \"tee man\":\n",
    "        continue\n",
    "    password = input(\"enter password! tee man \" )\n",
    "    if password == \"tee2345\":\n",
    "        break\n",
    "    "
   ]
  },
  {
   "cell_type": "code",
   "execution_count": 21,
   "metadata": {},
   "outputs": [
    {
     "name": "stdout",
     "output_type": "stream",
     "text": [
      "what's your name? tonero\n",
      "Thank you!\n"
     ]
    }
   ],
   "source": [
    "names = \"\"\n",
    "while names != \"tonero\" :\n",
    "    name = input(\"what's your name? \")\n",
    "    if name == \"tonero\":\n",
    "        break\n",
    "        \n",
    "print(\"Thank you!\")"
   ]
  },
  {
   "cell_type": "code",
   "execution_count": 2,
   "metadata": {},
   "outputs": [
    {
     "name": "stdout",
     "output_type": "stream",
     "text": [
      "who are you? \n",
      "tony\n",
      "who are you? \n",
      "tonero\n",
      "who are you? \n",
      "joe\n",
      "Hello,joe. What is the password? \n",
      "to\n",
      "who are you? \n",
      "joe\n",
      "Hello,joe. What is the password? \n",
      "swordfish\n",
      "Access granted\n"
     ]
    }
   ],
   "source": [
    "while True :\n",
    "    print(\"who are you? \")\n",
    "    name = input()\n",
    "    if name != \"joe\":\n",
    "        continue\n",
    "    print(\"Hello,joe. What is the password? \")\n",
    "    password = input()\n",
    "    \n",
    "    if password == \"swordfish\" :\n",
    "        break\n",
    "print (\"Access granted\")"
   ]
  },
  {
   "cell_type": "code",
   "execution_count": 4,
   "metadata": {},
   "outputs": [
    {
     "name": "stdout",
     "output_type": "stream",
     "text": [
      "welcome to mama nkechi kitchen, what will you have today\n",
      "Do you want? fufu,garri,pounded yam :  garri\n",
      "How many wraps? : 6\n",
      "what soup do you need? egusi, okro, mixed : egusi\n",
      "what do you want? fish, meat, none :  fish\n",
      "how many pieces of meat: 2\n",
      "Your total amount is 920\n",
      "Thanks for choosing us\n"
     ]
    }
   ],
   "source": [
    "print(\"welcome to mama nkechi kitchen, what will you have today\")\n",
    "available = input(\"Do you want? fufu,garri,pounded yam :  \")\n",
    "No_of_wraps = int(input(\"How many wraps? : \"))\n",
    "Type_of_soup = input(\"what soup do you need? egusi, okro, mixed : \")\n",
    "protein = input(\"what do you want? fish, meat, none :  \")\n",
    "\n",
    "\n",
    "bill = 0\n",
    "\n",
    "if available == \"fufu\":\n",
    "    bill = bill + 50\n",
    "elif available == \"garri\":\n",
    "    bill = bill + 70\n",
    "elif available == \"pounded yam\":\n",
    "    bill = bill + 100\n",
    "\n",
    "bill = bill * No_of_wraps\n",
    "\n",
    "               \n",
    "if Type_of_soup == \"egusi\":\n",
    "    bill = bill + 200\n",
    "elif Type_of_soup == \"okro\":\n",
    "    bill = bill + 200\n",
    "elif Type_of_soup == \"mixed\":\n",
    "    bill = bill + 300\n",
    "               \n",
    "if protein == \"meat\":\n",
    "    no_of_meat = int(input(\"how many pieces of meat: \"))\n",
    "    bill = bill + (no_of_meat * 100)\n",
    "    \n",
    "elif protein == \"fish\":\n",
    "    no_of_fish = int(input(\"how many pieces of meat: \"))\n",
    "    bill = bill + (no_of_fish * 150)\n",
    "    \n",
    "print(f\"Your total amount is {bill}\")\n",
    "print(\"Thanks for choosing us\")\n",
    "    \n",
    "    \n",
    "    \n",
    "    \n",
    "    \n",
    "    \n",
    "    \n"
   ]
  },
  {
   "cell_type": "code",
   "execution_count": 2,
   "metadata": {},
   "outputs": [
    {
     "name": "stdout",
     "output_type": "stream",
     "text": [
      "welcome to mama nkechi kitchen\n",
      "Do you want? fufu,garri,pounded yam :  pounded yam\n",
      "How many wraps? 1,2,3 : 3\n",
      "what soup do you need? egusi, okro, mixed : egusi\n",
      "what do you want? fish, meat, none :  meat\n",
      "no of protein? 1,2,3:  2\n",
      "700\n"
     ]
    }
   ],
   "source": [
    "print(\"welcome to mama nkechi kitchen\")\n",
    "available = input(\"Do you want? fufu,garri,pounded yam :  \")\n",
    "No_of_wraps = input(\"How many wraps? 1,2,3 : \")\n",
    "Type_of_soup = input(\"what soup do you need? egusi, okro, mixed : \")\n",
    "protein = input(\"what do you want? fish, meat, none :  \")\n",
    "No_of_protein = input(\"no of protein? 1,2,3:  \")\n",
    "\n",
    "bill = 0\n",
    "\n",
    "if available == \"fufu\":\n",
    "    bill = bill + 50\n",
    "elif available == \"garri\":\n",
    "    bill = bill + 70\n",
    "elif available == \"pounded yam\":\n",
    "    bill = bill + 100\n",
    "    \n",
    "if No_of_wraps == \"1\":\n",
    "    if available == \"fufu\":\n",
    "         bill = bill * 1\n",
    "    elif available == \"garri\":\n",
    "         bill = bill * 1\n",
    "    elif available == \"pounded yam\":\n",
    "         bill = bill * 1\n",
    "\n",
    "elif No_of_wraps == \"2\":\n",
    "    if available == \"fufu\":\n",
    "         bill = bill * 2\n",
    "    elif available == \"garri\":\n",
    "         bill = bill * 2\n",
    "    elif available == \"pounded yam\":\n",
    "        bill = bill * 2\n",
    "        \n",
    "elif No_of_wraps == \"3\":\n",
    "    if available == \"fufu\":\n",
    "         bill = bill * 3\n",
    "    elif available == \"garri\":\n",
    "        bill = bill * 3\n",
    "    elif available == \"pounded yam\":\n",
    "         bill = bill * 3\n",
    "        \n",
    "               \n",
    "if Type_of_soup == \"egusi\":\n",
    "    bill = bill + 200\n",
    "elif Type_of_soup == \"okro\":\n",
    "    bill = bill + 200\n",
    "elif Type_of_soup == \"mixed\":\n",
    "    bill = bill + 300\n",
    "               \n",
    "    \n",
    "if protein == \"meat\":\n",
    "    if No_of_protein == \"1\":\n",
    "        bill = (100 * 1) + bill\n",
    "    elif No_of_protein == \"2\":\n",
    "        bill = (100 * 2) + bill\n",
    "    elif No_of_protein == \"3\":\n",
    "        bill = (100 * 3) + bill\n",
    "        \n",
    "elif protein == \"fish\":\n",
    "    if No_of_protein == \"1\":\n",
    "        bill = (150 * 1) + bill\n",
    "    elif No_of_protein == \"2\":\n",
    "        bill = bill = (150 * 2) + bill\n",
    "    elif No_of_protein == \"3\":\n",
    "        bill = bill = (150 * 3) + bill\n",
    "        \n",
    "\n",
    "    \n",
    "    \n",
    "\n",
    "    \n",
    "print(bill)"
   ]
  },
  {
   "cell_type": "code",
   "execution_count": 22,
   "metadata": {},
   "outputs": [
    {
     "name": "stdout",
     "output_type": "stream",
     "text": [
      "         x          \n",
      "        xxx         \n",
      "       xxxxx        \n",
      "      xxxxxxx       \n",
      "     xxxxxxxxx      \n",
      "    xxxxxxxxxxx     \n",
      "   xxxxxxxxxxxxx    \n",
      "  xxxxxxxxxxxxxxx   \n",
      " xxxxxxxxxxxxxxxxx  \n",
      "xxxxxxxxxxxxxxxxxxx \n"
     ]
    }
   ],
   "source": [
    "\n",
    "for i in range(1,20,2) :\n",
    "    print((\"x\" * i).center(20))\n",
    "    "
   ]
  },
  {
   "cell_type": "code",
   "execution_count": 31,
   "metadata": {},
   "outputs": [
    {
     "name": "stdout",
     "output_type": "stream",
     "text": [
      "       xx       \n",
      "      xxxx      \n",
      "     xxxxxx     \n",
      "    xxxxxxxx    \n",
      "   xxxxxxxxxx   \n",
      "  xxxxxxxxxxxx  \n",
      " xxxxxxxxxxxxxx \n",
      "xxxxxxxxxxxxxxxx\n"
     ]
    }
   ],
   "source": [
    "lis = [2,4,6,8,10,12,14,16]\n",
    "for i in lis :\n",
    "    print((\"x\" * i).center(16))"
   ]
  },
  {
   "cell_type": "code",
   "execution_count": 36,
   "metadata": {},
   "outputs": [
    {
     "name": "stdout",
     "output_type": "stream",
     "text": [
      "x\n",
      "xx\n",
      "xxx\n",
      "xxxx\n",
      "xxxxx\n"
     ]
    }
   ],
   "source": [
    "for i in range(1,6):\n",
    "    print(\"x\" * i)"
   ]
  },
  {
   "cell_type": "code",
   "execution_count": 17,
   "metadata": {},
   "outputs": [
    {
     "name": "stdout",
     "output_type": "stream",
     "text": [
      "Blue car\n",
      "Blue ball\n",
      "Blue bucket\n",
      "Red car\n",
      "Red ball\n",
      "Red bucket\n",
      "Yellow car\n",
      "Yellow ball\n",
      "Yellow bucket\n"
     ]
    }
   ],
   "source": [
    "a = [\"car\",\"ball\",\"bucket\"]\n",
    "b = [\"Blue\",\"Red\",\"Yellow\"]\n",
    "\n",
    "for x in b :\n",
    "    for y in a:\n",
    "        print(x,y)\n",
    "        "
   ]
  },
  {
   "cell_type": "code",
   "execution_count": 29,
   "metadata": {},
   "outputs": [
    {
     "name": "stdout",
     "output_type": "stream",
     "text": [
      "xxxx\n",
      "x\n",
      "x\n",
      "xxx\n",
      "x\n",
      "x\n"
     ]
    }
   ],
   "source": [
    "lis = [4,1,1,3,1,1]\n",
    "\n",
    "for i in lis:\n",
    "        print(i * 'x')"
   ]
  },
  {
   "cell_type": "code",
   "execution_count": 17,
   "metadata": {},
   "outputs": [
    {
     "name": "stdout",
     "output_type": "stream",
     "text": [
      "xx\n",
      "xxxx\n",
      "xxxxxx\n",
      "xxxxxxxx\n",
      "xxxxxxxxxx\n"
     ]
    }
   ],
   "source": [
    "list = [2,4,6,8,10]\n",
    "for i in list:\n",
    "    print(i * \"x\")"
   ]
  },
  {
   "cell_type": "markdown",
   "metadata": {},
   "source": [
    "# sequence"
   ]
  },
  {
   "cell_type": "code",
   "execution_count": 18,
   "metadata": {},
   "outputs": [
    {
     "data": {
      "text/plain": [
       "'sheep'"
      ]
     },
     "execution_count": 18,
     "metadata": {},
     "output_type": "execute_result"
    }
   ],
   "source": [
    "# LIST\n",
    "\n",
    "a = [[1,2,3],2,5,['cat','dog','sheep']]\n",
    "a[3][2]"
   ]
  },
  {
   "cell_type": "code",
   "execution_count": 19,
   "metadata": {},
   "outputs": [
    {
     "data": {
      "text/plain": [
       "'g'"
      ]
     },
     "execution_count": 19,
     "metadata": {},
     "output_type": "execute_result"
    }
   ],
   "source": [
    "a[3][1][2]"
   ]
  },
  {
   "cell_type": "code",
   "execution_count": 20,
   "metadata": {},
   "outputs": [
    {
     "data": {
      "text/plain": [
       "[4, 5, 6, 7, 8, 9, 10]"
      ]
     },
     "execution_count": 20,
     "metadata": {},
     "output_type": "execute_result"
    }
   ],
   "source": [
    "a = [1,2,3,4,5,6,7,8,9,10]\n",
    "a[3:10]"
   ]
  },
  {
   "cell_type": "code",
   "execution_count": 3,
   "metadata": {},
   "outputs": [
    {
     "data": {
      "text/plain": [
       "[1, 2, 3, 4, 5, 6, 7, 8, 9, 10, 10]"
      ]
     },
     "execution_count": 3,
     "metadata": {},
     "output_type": "execute_result"
    }
   ],
   "source": [
    "a = [1,2,3,4,5,6,7,8,9,10]\n",
    "a.append(10)\n",
    "a\n"
   ]
  },
  {
   "cell_type": "code",
   "execution_count": 4,
   "metadata": {},
   "outputs": [
    {
     "data": {
      "text/plain": [
       "[1, 2, 2.5, 3, 4, 5, 6, 7, 8, 9, 10, 10]"
      ]
     },
     "execution_count": 4,
     "metadata": {},
     "output_type": "execute_result"
    }
   ],
   "source": [
    "a.insert(2,2.5)\n",
    "a\n"
   ]
  },
  {
   "cell_type": "code",
   "execution_count": 5,
   "metadata": {},
   "outputs": [
    {
     "data": {
      "text/plain": [
       "[1, 2, 2.5, 3, 4, 5, 6, 7, 8, 9, 10, 10, 1, 2, 3]"
      ]
     },
     "execution_count": 5,
     "metadata": {},
     "output_type": "execute_result"
    }
   ],
   "source": [
    "a.extend([1,2,3])\n",
    "a"
   ]
  },
  {
   "cell_type": "code",
   "execution_count": 6,
   "metadata": {},
   "outputs": [
    {
     "data": {
      "text/plain": [
       "[1, 1, 2, 2, 2.5, 3, 3, 4, 5, 6, 7, 8, 9, 10, 10]"
      ]
     },
     "execution_count": 6,
     "metadata": {},
     "output_type": "execute_result"
    }
   ],
   "source": [
    "a.sort()\n",
    "a"
   ]
  },
  {
   "cell_type": "code",
   "execution_count": 7,
   "metadata": {},
   "outputs": [
    {
     "data": {
      "text/plain": [
       "[10, 10, 9, 8, 7, 6, 5, 4, 3, 3, 2.5, 2, 2, 1, 1]"
      ]
     },
     "execution_count": 7,
     "metadata": {},
     "output_type": "execute_result"
    }
   ],
   "source": [
    "a.reverse()\n",
    "a"
   ]
  },
  {
   "cell_type": "code",
   "execution_count": 10,
   "metadata": {},
   "outputs": [
    {
     "data": {
      "text/plain": [
       "[9, 8, 7, 6, 5, 4, 3, 3, 2.5, 2, 2, 1, 1]"
      ]
     },
     "execution_count": 10,
     "metadata": {},
     "output_type": "execute_result"
    }
   ],
   "source": [
    "a.remove(10)\n",
    "a"
   ]
  },
  {
   "cell_type": "code",
   "execution_count": 11,
   "metadata": {},
   "outputs": [
    {
     "data": {
      "text/plain": [
       "['cat', 'dog', 'sheep']"
      ]
     },
     "execution_count": 11,
     "metadata": {},
     "output_type": "execute_result"
    }
   ],
   "source": [
    "# LIST USED TO CONVERT TUPLE TO LIST\n",
    "\n",
    "b = ('cat','dog','sheep')\n",
    "c = list(b)\n",
    "c"
   ]
  },
  {
   "cell_type": "code",
   "execution_count": 16,
   "metadata": {},
   "outputs": [],
   "source": [
    "b = ('cat','dog','sheep')\n",
    "c = []\n",
    "for i in b:\n",
    "    c.append(i)\n",
    "\n",
    "    "
   ]
  },
  {
   "cell_type": "code",
   "execution_count": 15,
   "metadata": {},
   "outputs": [
    {
     "data": {
      "text/plain": [
       "['cat', 'dog', 'sheep']"
      ]
     },
     "execution_count": 15,
     "metadata": {},
     "output_type": "execute_result"
    }
   ],
   "source": [
    "c"
   ]
  },
  {
   "cell_type": "code",
   "execution_count": 17,
   "metadata": {},
   "outputs": [
    {
     "data": {
      "text/plain": [
       "['cat', 'dog', 'sheep']"
      ]
     },
     "execution_count": 17,
     "metadata": {},
     "output_type": "execute_result"
    }
   ],
   "source": [
    "a ={'cat':10,'dog':40,'sheep':70}\n",
    "b = list(a)\n",
    "b"
   ]
  },
  {
   "cell_type": "code",
   "execution_count": 1,
   "metadata": {},
   "outputs": [
    {
     "data": {
      "text/plain": [
       "[23, 24, 56]"
      ]
     },
     "execution_count": 1,
     "metadata": {},
     "output_type": "execute_result"
    }
   ],
   "source": [
    "a = [23,45,14,78,39,14,56,101,23,24,56]\n",
    "a[8:]"
   ]
  },
  {
   "cell_type": "code",
   "execution_count": 6,
   "metadata": {},
   "outputs": [
    {
     "data": {
      "text/plain": [
       "9"
      ]
     },
     "execution_count": 6,
     "metadata": {},
     "output_type": "execute_result"
    }
   ],
   "source": [
    "a = [1,2,3,4,5,6,7,8,9,10]\n",
    "max(a)\n",
    "min(a)\n",
    "max(a)-min(a)"
   ]
  },
  {
   "cell_type": "code",
   "execution_count": 7,
   "metadata": {},
   "outputs": [
    {
     "name": "stdout",
     "output_type": "stream",
     "text": [
      "4\n",
      "8\n",
      "10\n",
      "12\n",
      "14\n"
     ]
    }
   ],
   "source": [
    "total = 2\n",
    "a = [2,4,5,6,7]\n",
    "for i in a:\n",
    "    print(i * total)"
   ]
  },
  {
   "cell_type": "code",
   "execution_count": 2,
   "metadata": {},
   "outputs": [
    {
     "name": "stdout",
     "output_type": "stream",
     "text": [
      "1\n"
     ]
    }
   ],
   "source": [
    "# Tuple functions\n",
    "\n",
    "b = (1,2,3,4,5,6,7,8,9,10)\n",
    "pay = 1\n",
    "\n",
    "c= (1,2,3,4)\n",
    "for i in c:\n",
    "        pay = pay * 1\n",
    "print(pay)\n"
   ]
  },
  {
   "cell_type": "markdown",
   "metadata": {},
   "source": [
    "# Dictionaries"
   ]
  },
  {
   "cell_type": "code",
   "execution_count": 7,
   "metadata": {},
   "outputs": [
    {
     "data": {
      "text/plain": [
       "True"
      ]
     },
     "execution_count": 7,
     "metadata": {},
     "output_type": "execute_result"
    }
   ],
   "source": [
    "cat1 = {\"size\":\"fat\", \"color\":\"gray\", \"disposition\":\"loud\"}\n",
    "cat2 = {\"disposition\":\"loud\", \"color\":\"gray\", \"size\":\"fat\"}\n",
    "\n",
    "cat1==cat2"
   ]
  },
  {
   "cell_type": "code",
   "execution_count": 2,
   "metadata": {},
   "outputs": [
    {
     "data": {
      "text/plain": [
       "'fat'"
      ]
     },
     "execution_count": 2,
     "metadata": {},
     "output_type": "execute_result"
    }
   ],
   "source": [
    "cat1[\"size\"]"
   ]
  },
  {
   "cell_type": "code",
   "execution_count": 3,
   "metadata": {},
   "outputs": [
    {
     "data": {
      "text/plain": [
       "dict_keys(['size', 'color', 'disposition'])"
      ]
     },
     "execution_count": 3,
     "metadata": {},
     "output_type": "execute_result"
    }
   ],
   "source": [
    "cat1.keys()"
   ]
  },
  {
   "cell_type": "code",
   "execution_count": 5,
   "metadata": {},
   "outputs": [
    {
     "data": {
      "text/plain": [
       "dict_values(['fat', 'gray', 'loud'])"
      ]
     },
     "execution_count": 5,
     "metadata": {},
     "output_type": "execute_result"
    }
   ],
   "source": [
    "cat1.values()"
   ]
  },
  {
   "cell_type": "code",
   "execution_count": 6,
   "metadata": {},
   "outputs": [
    {
     "name": "stdout",
     "output_type": "stream",
     "text": [
      "size\n",
      "color\n",
      "disposition\n"
     ]
    }
   ],
   "source": [
    "for i in cat1.keys():\n",
    "    print(i)"
   ]
  },
  {
   "cell_type": "markdown",
   "metadata": {},
   "source": [
    "# functions"
   ]
  },
  {
   "cell_type": "code",
   "execution_count": 39,
   "metadata": {},
   "outputs": [
    {
     "name": "stdout",
     "output_type": "stream",
     "text": [
      "Hello Tonero\n"
     ]
    }
   ],
   "source": [
    "def say_hello(name):\n",
    "    print(f\"Hello {name}\")\n",
    "          \n",
    "          \n",
    "say_hello(\"Tonero\")"
   ]
  },
  {
   "cell_type": "code",
   "execution_count": 43,
   "metadata": {},
   "outputs": [
    {
     "name": "stdout",
     "output_type": "stream",
     "text": [
      " Hello unknown\n"
     ]
    }
   ],
   "source": [
    "def say_hello(name='unknown'):\n",
    "    print (f\" Hello {name}\")\n",
    "\n",
    "say_hello()\n"
   ]
  },
  {
   "cell_type": "code",
   "execution_count": 41,
   "metadata": {},
   "outputs": [
    {
     "name": "stdout",
     "output_type": "stream",
     "text": [
      "7\n"
     ]
    }
   ],
   "source": [
    "def addition(number1,number2):\n",
    "    print (number1+number2)\n",
    "\n",
    "addition(3,4)"
   ]
  },
  {
   "cell_type": "code",
   "execution_count": 16,
   "metadata": {},
   "outputs": [
    {
     "data": {
      "text/plain": [
       "50.0"
      ]
     },
     "execution_count": 16,
     "metadata": {},
     "output_type": "execute_result"
    }
   ],
   "source": [
    "def fahrenheit_converter(number):\n",
    "    return (number * 1.8) + 32\n",
    "\n",
    "fahrenheit_converter(10)"
   ]
  },
  {
   "cell_type": "code",
   "execution_count": 17,
   "metadata": {},
   "outputs": [
    {
     "data": {
      "text/plain": [
       "16.09"
      ]
     },
     "execution_count": 17,
     "metadata": {},
     "output_type": "execute_result"
    }
   ],
   "source": [
    "def miles_to_kilometer_converter(number):\n",
    "    return number * 1.609\n",
    "\n",
    "miles_to_kilometer_converter(10)"
   ]
  },
  {
   "cell_type": "code",
   "execution_count": 22,
   "metadata": {},
   "outputs": [
    {
     "data": {
      "text/plain": [
       "33.36"
      ]
     },
     "execution_count": 22,
     "metadata": {},
     "output_type": "execute_result"
    }
   ],
   "source": [
    "def celcius_converter(number):\n",
    "    return (number-32) * 0.556\n",
    "\n",
    "celcius_converter(92)"
   ]
  },
  {
   "cell_type": "code",
   "execution_count": 25,
   "metadata": {},
   "outputs": [
    {
     "data": {
      "text/plain": [
       "37.26"
      ]
     },
     "execution_count": 25,
     "metadata": {},
     "output_type": "execute_result"
    }
   ],
   "source": [
    "def kilometer_to_miles_converter(number):\n",
    "    return number * 0.621\n",
    "\n",
    "kilometer_to_miles_converter(60)"
   ]
  },
  {
   "cell_type": "code",
   "execution_count": 2,
   "metadata": {},
   "outputs": [
    {
     "name": "stdout",
     "output_type": "stream",
     "text": [
      "(12, -2, 35, 0.7142857142857143)\n"
     ]
    }
   ],
   "source": [
    "def operation(a,b):\n",
    "    result_sum = a+b\n",
    "    result_sub = a-b\n",
    "    result_mul = a*b\n",
    "    result_div = a/b\n",
    "    \n",
    "    return result_sum, result_sub,result_mul,result_div\n",
    "\n",
    "a = operation(5,7)\n",
    "print(a) \n",
    "\n",
    "# or call out operation(5,7)"
   ]
  },
  {
   "cell_type": "code",
   "execution_count": 1,
   "metadata": {},
   "outputs": [
    {
     "name": "stdout",
     "output_type": "stream",
     "text": [
      "37.5\n",
      "Normal\n",
      "\n",
      "14.744801512287337\n",
      "underweight\n",
      "\n",
      "19.753086419753085\n",
      "Normal\n",
      "\n",
      "8.948791000073053\n",
      "underweight\n",
      "\n",
      "10.772545398584182\n",
      "underweight\n",
      "\n"
     ]
    }
   ],
   "source": [
    "height = [1.2,2.3,1.8,2.34,2.28]\n",
    "weight = [54,78,64,49,56]\n",
    "\n",
    "def bmi(w,h):\n",
    "    bmi = w/(h*h)\n",
    "    sent = \"\"\n",
    "\n",
    "    if bmi>= 25:\n",
    "        sent = \"overweight\"\n",
    "    if bmi>= 18.5:\n",
    "        sent =  \"Normal\"\n",
    "    if bmi<= 18.5:\n",
    "        sent = \"underweight\"\n",
    "        \n",
    "    print(bmi)\n",
    "    print(sent)\n",
    "    print()\n",
    "\n",
    "for i in range(len(height)):\n",
    "    bmi(weight[i],height[i])\n",
    "\n",
    "\n",
    "    "
   ]
  },
  {
   "cell_type": "code",
   "execution_count": 13,
   "metadata": {},
   "outputs": [
    {
     "name": "stdout",
     "output_type": "stream",
     "text": [
      "37.5\n",
      "you are overweight\n",
      "\n",
      "14.744801512287337\n",
      "you are abnormal\n",
      "\n",
      "19.753086419753085\n",
      "you are normal\n",
      "\n",
      "8.948791000073053\n",
      "you are abnormal\n",
      "\n",
      "10.772545398584182\n",
      "you are abnormal\n",
      "\n"
     ]
    }
   ],
   "source": [
    "height = [1.2,2.3,1.8,2.34,2.28]\n",
    "weight = [54,78,64,49,56]\n",
    "\n",
    "def bmi(w,h):\n",
    "    bmi = w/(h*h)\n",
    "    sent = \"\"\n",
    "    if bmi>=25:\n",
    "        sent = \"you are overweight\"\n",
    "    elif bmi>=18.5:\n",
    "        sent = \"you are normal\"\n",
    "    else :\n",
    "        sent = \"you are abnormal\"\n",
    "\n",
    "    print(bmi)\n",
    "    print(sent)\n",
    "    print()\n",
    "\n",
    "for i in range(len(height)):\n",
    "    bmi(weight[i],height[i])"
   ]
  },
  {
   "cell_type": "markdown",
   "metadata": {},
   "source": [
    "# help function"
   ]
  },
  {
   "cell_type": "code",
   "execution_count": 17,
   "metadata": {},
   "outputs": [
    {
     "name": "stdout",
     "output_type": "stream",
     "text": [
      "Help on function feTOcen in module __main__:\n",
      "\n",
      "feTOcen(c)\n",
      "    parameter: c(int)\n",
      "    return:return(float)\n",
      "    This function takes in parameter c and converts if to function\n",
      "\n"
     ]
    }
   ],
   "source": [
    "def feTOcen(c):\n",
    "    \"\"\"\n",
    "    parameter: c(int)\n",
    "    return:return(float)\n",
    "    This function takes in parameter c and converts it to function\n",
    "    \n",
    "    \"\"\"\n",
    "    print(hello)\n",
    "    \n",
    "help(feTOcen)"
   ]
  },
  {
   "cell_type": "code",
   "execution_count": 14,
   "metadata": {},
   "outputs": [
    {
     "name": "stdout",
     "output_type": "stream",
     "text": [
      "(1, 2, 3, 6, 2, 8, 3, 8, 23)\n",
      "6.222222222222222\n"
     ]
    }
   ],
   "source": [
    "def findAvg(*args):\n",
    "    print(args)\n",
    "    print(sum(args)/len(args))\n",
    "    \n",
    "findAvg(1,2,3,6,2,8,3,8,23)"
   ]
  },
  {
   "cell_type": "code",
   "execution_count": 15,
   "metadata": {},
   "outputs": [
    {
     "name": "stdout",
     "output_type": "stream",
     "text": [
      "{'name': 'kelly', 'age': 25, 'height': 1.2}\n"
     ]
    }
   ],
   "source": [
    "def stuff(**kargs):\n",
    "    print(kargs)\n",
    "    \n",
    "stuff(name=\"kelly\",age=25,height=1.2)"
   ]
  },
  {
   "cell_type": "code",
   "execution_count": 16,
   "metadata": {},
   "outputs": [
    {
     "data": {
      "text/plain": [
       "7.222222222222222"
      ]
     },
     "execution_count": 16,
     "metadata": {},
     "output_type": "execute_result"
    }
   ],
   "source": [
    "convert_f = lambda c :(c-32)*(5/9)\n",
    "convert_f(45)"
   ]
  },
  {
   "cell_type": "code",
   "execution_count": null,
   "metadata": {},
   "outputs": [],
   "source": [
    "import math\n",
    "\n",
    "def distance(x1,x2,y1,y2):\n",
    "    distance = math.sqrt(((x1-x2)**2)+((y1-y2)**2))\n",
    "    return distance\n",
    "\n",
    "distance(x1=50,x2=10,y1=100,y2=40)"
   ]
  },
  {
   "cell_type": "code",
   "execution_count": 34,
   "metadata": {},
   "outputs": [
    {
     "data": {
      "text/plain": [
       "'odd'"
      ]
     },
     "execution_count": 34,
     "metadata": {},
     "output_type": "execute_result"
    }
   ],
   "source": [
    "def function(number):\n",
    "    if number % 2 == 0:\n",
    "        sent = \"even\"\n",
    "    elif number % 2 == 1:\n",
    "        sent = \"odd\"\n",
    "        \n",
    "    return (sent)\n",
    "    \n",
    "\n",
    "        \n",
    "function(101)\n",
    "\n",
    "\n",
    "# MODULUS % IS USED TO GET REMINDER OF ANY VALUE"
   ]
  },
  {
   "cell_type": "code",
   "execution_count": 51,
   "metadata": {},
   "outputs": [
    {
     "data": {
      "text/plain": [
       "'fizz buzz'"
      ]
     },
     "execution_count": 51,
     "metadata": {},
     "output_type": "execute_result"
    }
   ],
   "source": [
    "def fizz_buzz(number):\n",
    "    if number % 3 == 0  and number % 5 == 0:\n",
    "        sent = \"fizz buzz\"\n",
    "    elif number % 3 == 0 :\n",
    "        sent = \"fizz\"\n",
    "    elif number % 5 == 0:\n",
    "        sent = \"buzz\"\n",
    "    else:\n",
    "        sent = number\n",
    "        \n",
    "    return(sent)\n",
    "\n",
    "fizz_buzz(15)"
   ]
  },
  {
   "cell_type": "markdown",
   "metadata": {},
   "source": [
    "# classes"
   ]
  },
  {
   "cell_type": "code",
   "execution_count": 16,
   "metadata": {},
   "outputs": [
    {
     "data": {
      "text/plain": [
       "'jane'"
      ]
     },
     "execution_count": 16,
     "metadata": {},
     "output_type": "execute_result"
    }
   ],
   "source": [
    "class Employee():\n",
    "    def __init__(self,emp_id,name,salary):\n",
    "        self.emp_id = emp_id\n",
    "        self.name = name\n",
    "        self.salary = salary\n",
    "        \n",
    "    def give_raise(self):\n",
    "        self.salary = self.salary * 1.05\n",
    "        \n",
    "    \n",
    "jane = Employee(1001,'jane',40000)\n",
    "jane.name"
   ]
  },
  {
   "cell_type": "code",
   "execution_count": 17,
   "metadata": {},
   "outputs": [
    {
     "data": {
      "text/plain": [
       "40000"
      ]
     },
     "execution_count": 17,
     "metadata": {},
     "output_type": "execute_result"
    }
   ],
   "source": [
    "jane.salary"
   ]
  },
  {
   "cell_type": "code",
   "execution_count": 18,
   "metadata": {},
   "outputs": [
    {
     "data": {
      "text/plain": [
       "42000.0"
      ]
     },
     "execution_count": 18,
     "metadata": {},
     "output_type": "execute_result"
    }
   ],
   "source": [
    "jane.give_raise()\n",
    "jane.salary"
   ]
  },
  {
   "cell_type": "markdown",
   "metadata": {},
   "source": [
    "# inheritance"
   ]
  },
  {
   "cell_type": "code",
   "execution_count": 4,
   "metadata": {},
   "outputs": [
    {
     "data": {
      "text/plain": [
       "'CEO'"
      ]
     },
     "execution_count": 4,
     "metadata": {},
     "output_type": "execute_result"
    }
   ],
   "source": [
    "class Manager():\n",
    "    def __init__(self,emp_id,name,salary,role):\n",
    "        self.emp_id = emp_id\n",
    "        self.name = name\n",
    "        self.salary = salary\n",
    "        self.role = role\n",
    "        \n",
    "jane = Manager(1002,'john',1000000,'CEO')\n",
    "jane.role"
   ]
  },
  {
   "cell_type": "code",
   "execution_count": 1,
   "metadata": {},
   "outputs": [
    {
     "data": {
      "text/plain": [
       "datetime.date(2022, 9, 1)"
      ]
     },
     "execution_count": 1,
     "metadata": {},
     "output_type": "execute_result"
    }
   ],
   "source": [
    "import datetime\n",
    "\n",
    "datetime.date.today()"
   ]
  },
  {
   "cell_type": "code",
   "execution_count": 2,
   "metadata": {},
   "outputs": [
    {
     "data": {
      "text/plain": [
       "datetime.date"
      ]
     },
     "execution_count": 2,
     "metadata": {},
     "output_type": "execute_result"
    }
   ],
   "source": [
    "type(datetime.date.today())"
   ]
  },
  {
   "cell_type": "code",
   "execution_count": 4,
   "metadata": {},
   "outputs": [
    {
     "data": {
      "text/plain": [
       "'2022-09-01'"
      ]
     },
     "execution_count": 4,
     "metadata": {},
     "output_type": "execute_result"
    }
   ],
   "source": [
    "str(datetime.date.today())"
   ]
  },
  {
   "cell_type": "code",
   "execution_count": 1,
   "metadata": {},
   "outputs": [
    {
     "name": "stdout",
     "output_type": "stream",
     "text": [
      "    October 2022\n",
      "Mo Tu We Th Fr Sa Su\n",
      "                1  2\n",
      " 3  4  5  6  7  8  9\n",
      "10 11 12 13 14 15 16\n",
      "17 18 19 20 21 22 23\n",
      "24 25 26 27 28 29 30\n",
      "31\n",
      "\n"
     ]
    }
   ],
   "source": [
    "import calendar  \n",
    "cal2=calendar.month(2022,10)\n",
    "print(cal2)"
   ]
  },
  {
   "cell_type": "code",
   "execution_count": 3,
   "metadata": {},
   "outputs": [
    {
     "name": "stdout",
     "output_type": "stream",
     "text": [
      "   September 2022\n",
      "Mo Tu We Th Fr Sa Su\n",
      "          1  2  3  4\n",
      " 5  6  7  8  9 10 11\n",
      "12 13 14 15 16 17 18\n",
      "19 20 21 22 23 24 25\n",
      "26 27 28 29 30\n",
      "\n"
     ]
    }
   ],
   "source": [
    "import calendar\n",
    "\n",
    "print(calendar.month(2022,9))"
   ]
  },
  {
   "cell_type": "code",
   "execution_count": 1,
   "metadata": {},
   "outputs": [
    {
     "name": "stdout",
     "output_type": "stream",
     "text": [
      "welcome, pls enter your secret number\n",
      "password : tu\n",
      "password : uy\n",
      "password : uu\n",
      "password : tony\n",
      "welcome\n"
     ]
    }
   ],
   "source": [
    "print('welcome, pls enter your secret number')  \n",
    "\n",
    "while True:\n",
    "    password = input('password : ')\n",
    "    if password != 'tony':\n",
    "        continue\n",
    "    else :\n",
    "        print('welcome')\n",
    "        break\n"
   ]
  },
  {
   "cell_type": "code",
   "execution_count": 2,
   "metadata": {},
   "outputs": [
    {
     "data": {
      "image/png": "[encoded data removed]",
      "text/plain": [
       "<Figure size 432x288 with 1 Axes>"
      ]
     },
     "metadata": {
      "needs_background": "light"
     },
     "output_type": "display_data"
    }
   ],
   "source": [
    "import pandas\n",
    "\n",
    "import matplotlib.pyplot as plt\n",
    "import numpy as np\n",
    "\n",
    "# make data:\n",
    "np.random.seed(3)\n",
    "x = 0.5 + np.arange(8)\n",
    "y = np.random.uniform(2, 7, len(x))\n",
    "\n",
    "# plot\n",
    "fig, ax = plt.subplots()\n",
    "\n",
    "ax.bar(x, y, width=1, edgecolor=\"white\", linewidth=0.7)\n",
    "\n",
    "ax.set(xlim=(0, 8), xticks=np.arange(1, 8),\n",
    "       ylim=(0, 8), yticks=np.arange(1, 8))\n",
    "\n",
    "plt.show()"
   ]
  },
  {
   "cell_type": "markdown",
   "metadata": {},
   "source": [
    "# project"
   ]
  },
  {
   "cell_type": "code",
   "execution_count": 4,
   "metadata": {},
   "outputs": [
    {
     "name": "stdout",
     "output_type": "stream",
     "text": [
      "0b1000010001\n"
     ]
    }
   ],
   "source": [
    "a = bin(529)\n",
    "print(a)"
   ]
  },
  {
   "cell_type": "code",
   "execution_count": 33,
   "metadata": {},
   "outputs": [
    {
     "data": {
      "text/plain": [
       "'1000010001'"
      ]
     },
     "execution_count": 33,
     "metadata": {},
     "output_type": "execute_result"
    }
   ],
   "source": [
    "binary_con = bin(529)[2:]\n",
    "\n",
    "binary_con"
   ]
  },
  {
   "cell_type": "code",
   "execution_count": 34,
   "metadata": {},
   "outputs": [
    {
     "data": {
      "text/plain": [
       "['', '0000', '000', '']"
      ]
     },
     "execution_count": 34,
     "metadata": {},
     "output_type": "execute_result"
    }
   ],
   "source": [
    "binary_list = binary_con.split('1')\n",
    "\n",
    "binary_list"
   ]
  },
  {
   "cell_type": "code",
   "execution_count": 3,
   "metadata": {},
   "outputs": [
    {
     "name": "stdout",
     "output_type": "stream",
     "text": [
      "['hello', 'world']\n"
     ]
    }
   ],
   "source": [
    "a = 'hello,world'\n",
    "print(a.split(','))"
   ]
  },
  {
   "cell_type": "code",
   "execution_count": 39,
   "metadata": {},
   "outputs": [
    {
     "data": {
      "text/plain": [
       "4"
      ]
     },
     "execution_count": 39,
     "metadata": {},
     "output_type": "execute_result"
    }
   ],
   "source": [
    "def solution(N):\n",
    "    # convert to binary\n",
    "    binary_string = bin(N)[2:]\n",
    "    \n",
    "    #split binary string by '1'\n",
    "    binary_list = binary_string.split('1')\n",
    "    \n",
    "    #remove last item if it didnt end with '1'\n",
    "    if len(binary_list[-1]) != 0:\n",
    "        binary_list.pop()\n",
    "    \n",
    "    #count number of zeros and store max number\n",
    "    current_len = 0\n",
    "    max_len = 0\n",
    "    \n",
    "    for i in binary_list :\n",
    "        current_len  = len(i) \n",
    "        \n",
    "        if current_len > max_len :\n",
    "            max_len = current_len\n",
    "            \n",
    "    return max_len\n",
    "\n",
    "\n",
    "\n",
    "solution(529)\n",
    "    "
   ]
  },
  {
   "cell_type": "code",
   "execution_count": 40,
   "metadata": {},
   "outputs": [
    {
     "name": "stdout",
     "output_type": "stream",
     "text": [
      "dlroW olleH\n"
     ]
    }
   ],
   "source": [
    "txt = \"Hello World\"[::-1]\n",
    "print(txt)"
   ]
  },
  {
   "cell_type": "code",
   "execution_count": 3,
   "metadata": {},
   "outputs": [
    {
     "name": "stdout",
     "output_type": "stream",
     "text": [
      "True\n"
     ]
    }
   ],
   "source": [
    "txt = \"racecar\"[::-1]\n",
    "\n",
    "if txt == 'racecar':\n",
    "    print(True)\n",
    "else:\n",
    "    print(False)"
   ]
  },
  {
   "cell_type": "code",
   "execution_count": 13,
   "metadata": {},
   "outputs": [
    {
     "name": "stdout",
     "output_type": "stream",
     "text": [
      "input txt :holy\n",
      "False\n"
     ]
    }
   ],
   "source": [
    "txt = \"holy\"[::-1]\n",
    "a = input(\"input txt :\")\n",
    "\n",
    "if txt == a :\n",
    "    print(True)\n",
    "else:\n",
    "    print(False)"
   ]
  },
  {
   "cell_type": "code",
   "execution_count": 20,
   "metadata": {},
   "outputs": [
    {
     "name": "stdout",
     "output_type": "stream",
     "text": [
      "input new text : holy\n",
      "False\n"
     ]
    }
   ],
   "source": [
    "def reverse(text):\n",
    "    txt = text[::-1]\n",
    "    \n",
    "    new_word = input(\"input new text : \")\n",
    "    \n",
    "    if txt == new_word :\n",
    "        print(True)\n",
    "    \n",
    "    else:\n",
    "        print(False)\n",
    "    \n",
    "    \n",
    "reverse('holy')\n",
    "    "
   ]
  },
  {
   "cell_type": "code",
   "execution_count": 2,
   "metadata": {},
   "outputs": [
    {
     "name": "stdout",
     "output_type": "stream",
     "text": [
      "('a', 'b')\n"
     ]
    }
   ],
   "source": [
    "a = (\"a\", \"b\", \"c\", \"d\", \"e\", \"f\", \"g\", \"h\")\n",
    "x = slice(2)\n",
    "print(a[x])"
   ]
  },
  {
   "cell_type": "code",
   "execution_count": 45,
   "metadata": {},
   "outputs": [
    {
     "name": "stdout",
     "output_type": "stream",
     "text": [
      "('a', 'b')\n"
     ]
    }
   ],
   "source": [
    "a = (\"a\", \"b\", \"c\", \"d\", \"e\", \"f\", \"g\", \"h\")\n",
    "print(a[:2])"
   ]
  },
  {
   "cell_type": "code",
   "execution_count": 46,
   "metadata": {},
   "outputs": [
    {
     "name": "stdout",
     "output_type": "stream",
     "text": [
      "('d', 'e')\n"
     ]
    }
   ],
   "source": [
    "#Create a tuple and a slice object. Start the slice object at position 3, and slice to position 5, and return the result:\n",
    "\n",
    "a = (\"a\", \"b\", \"c\", \"d\", \"e\", \"f\", \"g\", \"h\")\n",
    "x = slice(3, 5)\n",
    "print(a[x])\n"
   ]
  },
  {
   "cell_type": "code",
   "execution_count": 25,
   "metadata": {},
   "outputs": [
    {
     "data": {
      "text/plain": [
       "31"
      ]
     },
     "execution_count": 25,
     "metadata": {},
     "output_type": "execute_result"
    }
   ],
   "source": [
    "import calendar\n",
    "\n",
    "calendar.monthlen(2022,3)"
   ]
  },
  {
   "cell_type": "code",
   "execution_count": 31,
   "metadata": {},
   "outputs": [
    {
     "name": "stdout",
     "output_type": "stream",
     "text": [
      "True\n"
     ]
    }
   ],
   "source": [
    "import calendar\n",
    "print(calendar.isleap(2020))"
   ]
  },
  {
   "cell_type": "code",
   "execution_count": 33,
   "metadata": {},
   "outputs": [
    {
     "name": "stdout",
     "output_type": "stream",
     "text": [
      "False\n"
     ]
    }
   ],
   "source": [
    "import calendar\n",
    "\n",
    "def leap_year(N):\n",
    "    calc = calendar.isleap(N)\n",
    "    if calc is True:\n",
    "        print(True)\n",
    "    else :\n",
    "        print(False)\n",
    "        \n",
    "leap_year(2021)"
   ]
  },
  {
   "cell_type": "code",
   "execution_count": 12,
   "metadata": {},
   "outputs": [
    {
     "data": {
      "text/plain": [
       "True"
      ]
     },
     "execution_count": 12,
     "metadata": {},
     "output_type": "execute_result"
    }
   ],
   "source": [
    "def leapyear(N):\n",
    "    if N%4 == 0 :\n",
    "        return True\n",
    "    \n",
    "    else:\n",
    "        return False\n",
    "\n",
    "leapyear(2020)"
   ]
  },
  {
   "cell_type": "code",
   "execution_count": 7,
   "metadata": {},
   "outputs": [
    {
     "name": "stdout",
     "output_type": "stream",
     "text": [
      "no of times you came to class: 3\n",
      "no of times you missed class : 2\n",
      "60.0\n",
      "Your ineligible\n"
     ]
    }
   ],
   "source": [
    "number_attended = int(input(\"no of times you came to class: \"))\n",
    "number_missed = int(input(\"no of times you missed class : \"))\n",
    "\n",
    "c = (number_attended/(number_missed+number_attended))\n",
    "d = c * 100\n",
    "print(d)\n",
    "\n",
    "if d >= 75:\n",
    "    print(\"Your eligible\")\n",
    "else :\n",
    "    print(\"Your ineligible\")"
   ]
  },
  {
   "cell_type": "code",
   "execution_count": 20,
   "metadata": {},
   "outputs": [
    {
     "name": "stdout",
     "output_type": "stream",
     "text": [
      "number: 51\n",
      "its an odd number\n"
     ]
    }
   ],
   "source": [
    "number = int(input('number: '))\n",
    "if number % 2 == 0 :\n",
    "    print(\"its an even number\")\n",
    "    if number in range (2,20):\n",
    "        print(\"its an even no and between 2 to 20\")\n",
    "else  :\n",
    "    print(\"its an odd number\")\n",
    "    if number in range (3,30):\n",
    "        print(\"its an odd no and between 3 to 30\")"
   ]
  },
  {
   "cell_type": "code",
   "execution_count": 22,
   "metadata": {},
   "outputs": [
    {
     "name": "stdout",
     "output_type": "stream",
     "text": [
      "its an odd number\n"
     ]
    }
   ],
   "source": [
    "def evenoddnumbers(N):\n",
    "    \n",
    "    if N % 2 == 0 :\n",
    "        print(\"its an even number\")\n",
    "        if N in range (2,20):\n",
    "            print(\"its an even no and between 2 to 20\")\n",
    "    else  :\n",
    "        print(\"its an odd number\")\n",
    "        if N in range (3,30):\n",
    "            print(\"its an odd no and between 3 to 30\")    \n",
    "            \n",
    "evenoddnumbers(51)\n"
   ]
  },
  {
   "cell_type": "code",
   "execution_count": 28,
   "metadata": {},
   "outputs": [
    {
     "data": {
      "text/plain": [
       "[456, 72, 36, 4, 67, 43]"
      ]
     },
     "execution_count": 28,
     "metadata": {},
     "output_type": "execute_result"
    }
   ],
   "source": [
    "a = [43,67,4,36,72,456]\n",
    "\n",
    "def reverse(a):\n",
    "    a.reverse()\n",
    "    return a\n",
    "    \n",
    "reverse(a)\n",
    "    "
   ]
  },
  {
   "cell_type": "code",
   "execution_count": 19,
   "metadata": {},
   "outputs": [
    {
     "name": "stdout",
     "output_type": "stream",
     "text": [
      "5\n",
      "its an odd number\n"
     ]
    }
   ],
   "source": [
    "a =int(input())\n",
    "b = a%2 == 0\n",
    "\n",
    "\n",
    "while b == True:\n",
    "      print('its an even number')\n",
    "        \n",
    "      b+=1   \n",
    "     \n",
    "if b == False:\n",
    "    print('its an odd number')\n",
    "    b+=1\n",
    "    \n",
    "do = input('yes or no :')\n",
    "done = 'no'\n",
    "if done == 'no':\n",
    "    \n",
    "    \n",
    "    "
   ]
  },
  {
   "cell_type": "code",
   "execution_count": null,
   "metadata": {},
   "outputs": [],
   "source": []
  },
  {
   "cell_type": "code",
   "execution_count": null,
   "metadata": {},
   "outputs": [],
   "source": []
  }
 ],
 "metadata": {
  "kernelspec": {
   "display_name": "Python 3",
   "language": "python",
   "name": "python3"
  },
  "language_info": {
   "codemirror_mode": {
    "name": "ipython",
    "version": 3
   },
   "file_extension": ".py",
   "mimetype": "text/x-python",
   "name": "python",
   "nbconvert_exporter": "python",
   "pygments_lexer": "ipython3",
   "version": "3.7.0"
  }
 },
 "nbformat": 4,
 "nbformat_minor": 2
}
