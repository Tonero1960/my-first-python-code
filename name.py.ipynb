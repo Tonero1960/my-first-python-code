{
 "cells": [
  {
   "cell_type": "code",
   "execution_count": 4,
   "metadata": {},
   "outputs": [
    {
     "name": "stdout",
     "output_type": "stream",
     "text": [
      "TONERO\n"
     ]
    }
   ],
   "source": [
    " x = \"TONERO\"\n",
    "print(x)  "
   ]
  },
  {
   "cell_type": "code",
   "execution_count": 1,
   "metadata": {},
   "outputs": [
    {
     "name": "stdout",
     "output_type": "stream",
     "text": [
      "ToneroToneroToneroToneroToneroToneroToneroToneroToneroTonero\n"
     ]
    }
   ],
   "source": [
    "print (\"Tonero\" * 10)"
   ]
  },
  {
   "cell_type": "code",
   "execution_count": 22,
   "metadata": {},
   "outputs": [
    {
     "name": "stdout",
     "output_type": "stream",
     "text": [
      "290\n"
     ]
    }
   ],
   "source": [
    "price = 29\n",
    "print((price) * 10)\n"
   ]
  },
  {
   "cell_type": "code",
   "execution_count": 6,
   "metadata": {},
   "outputs": [
    {
     "name": "stdout",
     "output_type": "stream",
     "text": [
      "Tonero\n",
      "TONERO\n"
     ]
    }
   ],
   "source": [
    "name = \"Tonero\"\n",
    "print(name)\n",
    "print((name).upper())"
   ]
  },
  {
   "cell_type": "code",
   "execution_count": 24,
   "metadata": {},
   "outputs": [
    {
     "name": "stdout",
     "output_type": "stream",
     "text": [
      "True\n"
     ]
    }
   ],
   "source": [
    "is_published = True\n",
    "print(is_published)"
   ]
  },
  {
   "cell_type": "code",
   "execution_count": null,
   "metadata": {},
   "outputs": [],
   "source": [
    "full name = \"John smith\"\n",
    "age = 20\n",
    "is_new = True"
   ]
  },
  {
   "cell_type": "code",
   "execution_count": 7,
   "metadata": {},
   "outputs": [
    {
     "name": "stdout",
     "output_type": "stream",
     "text": [
      "whats your name? tonero\n",
      "whats your favorite color? blue\n",
      "TONERO loves BLUE\n"
     ]
    }
   ],
   "source": [
    "name = input(\"whats your name? \")\n",
    "color = input(\"whats your favorite color? \")\n",
    "print( name.upper() + \" loves \" + color.upper() )\n"
   ]
  },
  {
   "cell_type": "code",
   "execution_count": 34,
   "metadata": {},
   "outputs": [
    {
     "name": "stdout",
     "output_type": "stream",
     "text": [
      "what is your name? Tonero\n",
      "Hi Tonero\n"
     ]
    }
   ],
   "source": [
    "name = input(\"what is your name? \")\n",
    "print(\"Hi \" + name)"
   ]
  },
  {
   "cell_type": "code",
   "execution_count": 9,
   "metadata": {},
   "outputs": [
    {
     "name": "stdout",
     "output_type": "stream",
     "text": [
      "whats your name? tonero\n",
      "whats your favorite color? color\n",
      "tonero loves color\n"
     ]
    }
   ],
   "source": [
    "name = input(\"whats your name? \")\n",
    "color = input(\"whats your favorite color? \")\n",
    "print(f\"{name} loves {color}\")\n"
   ]
  },
  {
   "cell_type": "code",
   "execution_count": 36,
   "metadata": {},
   "outputs": [
    {
     "name": "stdout",
     "output_type": "stream",
     "text": [
      "whats your favorite color? Black\n",
      "Tonero likes Black\n"
     ]
    }
   ],
   "source": [
    "color = input(\"whats your favorite color? \")\n",
    "print(\"Tonero likes \" + color)"
   ]
  },
  {
   "cell_type": "code",
   "execution_count": 38,
   "metadata": {},
   "outputs": [
    {
     "name": "stdout",
     "output_type": "stream",
     "text": [
      "whats your name? Tonero\n",
      "whats your favourite color? Black\n",
      "Tonero likes Black\n"
     ]
    }
   ],
   "source": [
    "name = input(\"whats your name? \")\n",
    "color = input(\"whats your favourite color? \")\n",
    "print(name + \" likes \" + color)\n"
   ]
  },
  {
   "cell_type": "code",
   "execution_count": 39,
   "metadata": {},
   "outputs": [
    {
     "name": "stdout",
     "output_type": "stream",
     "text": [
      "whats my birth_year? 1997\n",
      "25\n"
     ]
    }
   ],
   "source": [
    "birth_year = input(\"whats my birth_year? \")\n",
    "age = 2022 - int(birth_year)\n",
    "print(age)"
   ]
  },
  {
   "cell_type": "code",
   "execution_count": 6,
   "metadata": {},
   "outputs": [
    {
     "name": "stdout",
     "output_type": "stream",
     "text": [
      "whats your weight in pounds? 100\n",
      "45.0\n"
     ]
    }
   ],
   "source": [
    "weight_lbs = input(\"whats your weight in pounds? \")\n",
    "weight_kg = 0.45 * float(weight_lbs)\n",
    "print(weight_kg)\n"
   ]
  },
  {
   "cell_type": "code",
   "execution_count": 11,
   "metadata": {},
   "outputs": [
    {
     "name": "stdout",
     "output_type": "stream",
     "text": [
      "python\n"
     ]
    }
   ],
   "source": [
    " course = \"python for Beginners\"\n",
    "    \n",
    "print(course[0:6])"
   ]
  },
  {
   "cell_type": "code",
   "execution_count": 52,
   "metadata": {},
   "outputs": [
    {
     "name": "stdout",
     "output_type": "stream",
     "text": [
      "john [smith] is a coder\n"
     ]
    }
   ],
   "source": [
    "first = \"john\"\n",
    "last = \"smith\"\n",
    "msg = f\"{first} [{last}] is a coder\"\n",
    "print(msg)"
   ]
  },
  {
   "cell_type": "code",
   "execution_count": 9,
   "metadata": {},
   "outputs": [
    {
     "name": "stdout",
     "output_type": "stream",
     "text": [
      "Tonero [Big] is 25 \n"
     ]
    }
   ],
   "source": [
    "first = \"Tonero\"\n",
    "last =  \"Big\"\n",
    "age = 25\n",
    "msg = f\"{first} [{last}] is {age} \"\n",
    "print(msg)\n"
   ]
  },
  {
   "cell_type": "code",
   "execution_count": 21,
   "metadata": {},
   "outputs": [
    {
     "name": "stdout",
     "output_type": "stream",
     "text": [
      "PYTHON FOR BEGINNERS\n",
      "jython for beginners\n",
      "True\n"
     ]
    }
   ],
   "source": [
    "course = 'python for beginners'\n",
    "print(course.upper() )\n",
    "print(course.replace ('p','j'))\n",
    "print('python' in course)"
   ]
  },
  {
   "cell_type": "markdown",
   "metadata": {},
   "source": [
    "# maths functions"
   ]
  },
  {
   "cell_type": "code",
   "execution_count": 27,
   "metadata": {},
   "outputs": [
    {
     "name": "stdout",
     "output_type": "stream",
     "text": [
      "3\n"
     ]
    }
   ],
   "source": [
    "x = 2.9\n",
    "print( round (x))\n"
   ]
  },
  {
   "cell_type": "code",
   "execution_count": 26,
   "metadata": {},
   "outputs": [
    {
     "name": "stdout",
     "output_type": "stream",
     "text": [
      "3\n"
     ]
    }
   ],
   "source": [
    "x = 2.8\n",
    "\n",
    "if x > 2.5:\n",
    "    print(round (x) )\n",
    "    \n",
    "else:\n",
    "    print(x)\n"
   ]
  },
  {
   "cell_type": "code",
   "execution_count": 29,
   "metadata": {},
   "outputs": [
    {
     "name": "stdout",
     "output_type": "stream",
     "text": [
      "24\n"
     ]
    }
   ],
   "source": [
    "x = -24\n",
    "print( abs(x) )"
   ]
  },
  {
   "cell_type": "code",
   "execution_count": 31,
   "metadata": {},
   "outputs": [
    {
     "name": "stdout",
     "output_type": "stream",
     "text": [
      "-0.3048106211022167\n"
     ]
    }
   ],
   "source": [
    "import math\n",
    "print( math.sin(60)) "
   ]
  },
  {
   "cell_type": "markdown",
   "metadata": {},
   "source": [
    "# conditinal statements\n"
   ]
  },
  {
   "cell_type": "code",
   "execution_count": 34,
   "metadata": {},
   "outputs": [
    {
     "name": "stdout",
     "output_type": "stream",
     "text": [
      "it's a hot day\n",
      "Drink plenty of water\n",
      "Enjoy your day\n"
     ]
    }
   ],
   "source": [
    "is_hot = True\n",
    "\n",
    "if is_hot :\n",
    "    print(\"it's a hot day\")\n",
    "    print(\"Drink plenty of water\")\n",
    "    print(\"Enjoy your day\")"
   ]
  },
  {
   "cell_type": "code",
   "execution_count": 39,
   "metadata": {},
   "outputs": [
    {
     "name": "stdout",
     "output_type": "stream",
     "text": [
      "Enjoy your day\n"
     ]
    }
   ],
   "source": [
    "is_hot = False \n",
    "is_cold = False\n",
    "\n",
    "if is_hot :\n",
    "    print(\"it's a hot day\")\n",
    "    print(\"Drink plenty of water\")\n",
    "    print(\"Enjoy your day\")\n",
    "    \n",
    "elif is_cold :\n",
    "    print(\"It's a cold day\")\n",
    "    print(\"Wear warm colthes\")\n",
    "    print(\"Enjoy your day\")\n",
    "    \n",
    "else :\n",
    "    print(\"Enjoy your day\")"
   ]
  },
  {
   "cell_type": "code",
   "execution_count": 2,
   "metadata": {},
   "outputs": [
    {
     "name": "stdout",
     "output_type": "stream",
     "text": [
      "100000.0\n"
     ]
    }
   ],
   "source": [
    "price = 1000000\n",
    "has_good_credit = True\n",
    "\n",
    "if has_good_credit :\n",
    "    x = 0.1*price \n",
    "    print(x)\n",
    "    \n",
    "    \n",
    "else :\n",
    "    x = 0.2*price\n",
    "    print (x)\n",
    "    \n",
    "    "
   ]
  },
  {
   "cell_type": "markdown",
   "metadata": {},
   "source": [
    "# logical operators are used for multiple conditions"
   ]
  },
  {
   "cell_type": "code",
   "execution_count": 74,
   "metadata": {},
   "outputs": [
    {
     "name": "stdout",
     "output_type": "stream",
     "text": [
      "Eligible for loan\n"
     ]
    }
   ],
   "source": [
    "has_high_income = True\n",
    "has_good_credit = True \n",
    "\n",
    "if has_high_income and has_good_credit:\n",
    "                                print(\"Eligible for loan\")"
   ]
  },
  {
   "cell_type": "code",
   "execution_count": 76,
   "metadata": {},
   "outputs": [],
   "source": [
    "has_good_record = True\n",
    "has_criminal_record = True\n",
    "\n",
    "if has_good_record and not has_criminal_record :\n",
    "    print(\"Eligible for loan\")\n",
    "\n",
    "    "
   ]
  },
  {
   "cell_type": "markdown",
   "metadata": {},
   "source": [
    "became empty because no result"
   ]
  },
  {
   "cell_type": "markdown",
   "metadata": {},
   "source": [
    "# comparison operators,"
   ]
  },
  {
   "cell_type": "code",
   "execution_count": 79,
   "metadata": {},
   "outputs": [
    {
     "name": "stdout",
     "output_type": "stream",
     "text": [
      "it's a hot day\n"
     ]
    }
   ],
   "source": [
    "temperature = 39\n",
    "\n",
    "if temperature > 30 :\n",
    "    print(\"it's a hot day\")\n",
    "    \n",
    "else :\n",
    "    print(\"it's not a hot day\")"
   ]
  },
  {
   "cell_type": "code",
   "execution_count": 95,
   "metadata": {},
   "outputs": [
    {
     "name": "stdout",
     "output_type": "stream",
     "text": [
      "it's a hot day\n"
     ]
    }
   ],
   "source": [
    "temperature = 39\n",
    "\n",
    "if temperature > 30 :\n",
    "    print(\"it's a hot day\")\n",
    "    \n",
    "else : \n",
    "    print(\"it's not a hot day\")"
   ]
  },
  {
   "cell_type": "markdown",
   "metadata": {},
   "source": [
    "# len used to count number of characters in a string"
   ]
  },
  {
   "cell_type": "code",
   "execution_count": 91,
   "metadata": {},
   "outputs": [
    {
     "name": "stdout",
     "output_type": "stream",
     "text": [
      "6\n"
     ]
    }
   ],
   "source": [
    "name = \"Tonero\"\n",
    "print(len(name))\n"
   ]
  },
  {
   "cell_type": "code",
   "execution_count": 92,
   "metadata": {},
   "outputs": [
    {
     "name": "stdout",
     "output_type": "stream",
     "text": [
      "Name looks good\n"
     ]
    }
   ],
   "source": [
    "name = \"Tonero\"\n",
    "\n",
    "if len(name) < 3 :\n",
    "    print(\"Name must be at least 3 characters\")\n",
    "    \n",
    "elif len(name) > 50 :\n",
    "    print(\"Name can be a maximum of 50 characters\")\n",
    "    \n",
    "else :\n",
    "    print(\"Name looks good\")\n",
    "    \n",
    "    "
   ]
  },
  {
   "cell_type": "code",
   "execution_count": 4,
   "metadata": {},
   "outputs": [
    {
     "name": "stdout",
     "output_type": "stream",
     "text": [
      "whats your name? Tonero\n",
      "Name looks good\n"
     ]
    }
   ],
   "source": [
    "\n",
    "\n",
    "name = input(\"whats your name? \")\n",
    "\n",
    "if len(name) < 3 :\n",
    "    print(\"Name must be at least 3 characters\")\n",
    "    \n",
    "elif len(name) > 50 :\n",
    "    print(\"Name can be a maximum of 50 characters\")\n",
    "    \n",
    "else :\n",
    "    print(\"Name looks good\")\n",
    "    \n",
    "    "
   ]
  },
  {
   "cell_type": "code",
   "execution_count": 27,
   "metadata": {},
   "outputs": [
    {
     "name": "stdout",
     "output_type": "stream",
     "text": [
      "stella\n"
     ]
    }
   ],
   "source": [
    "name = \"stella\"\n",
    "\n",
    "if len(name) < 3:\n",
    "    print(\"name must be more than 3 chatracters\")\n",
    "    \n",
    "elif len(name) > 50:\n",
    "    print(\"name must be maximum of 50 characters\")\n",
    "    \n",
    "else :\n",
    "    print(name)"
   ]
  },
  {
   "cell_type": "markdown",
   "metadata": {},
   "source": [
    "# weight converter"
   ]
  },
  {
   "cell_type": "code",
   "execution_count": 1,
   "metadata": {},
   "outputs": [
    {
     "name": "stdout",
     "output_type": "stream",
     "text": [
      "weight: 100\n",
      "(L)bs or (K)g: L\n",
      " you are 45.0 kilos\n"
     ]
    }
   ],
   "source": [
    "weight = int(input('weight: '))\n",
    "unit = input('(L)bs or (K)g: ')\n",
    "\n",
    "if unit.upper() == \"L\":\n",
    "    converted  = weight * 0.45\n",
    "    print(f\" you are {converted } kilos\")\n",
    "    \n",
    "else :\n",
    "    converted = weight/0.45 \n",
    "    print(f\" you are {converted } pounds\")\n",
    "    \n",
    "    \n"
   ]
  },
  {
   "cell_type": "code",
   "execution_count": 3,
   "metadata": {},
   "outputs": [
    {
     "name": "stdout",
     "output_type": "stream",
     "text": [
      "weight: 250\n",
      "(L)bs or (K)g:k\n",
      " you are 555.5555555555555 pounds\n"
     ]
    }
   ],
   "source": [
    "weight = int(input(\"weight: \"))\n",
    "unit = input(\"(L)bs or (K)g:\")\n",
    "\n",
    "if unit.upper() == \"L\":\n",
    "    converted  = weight * 0.45\n",
    "    print( f\" you are {converted}  kilos\")\n",
    "    \n",
    "else :\n",
    "    converted = weight/0.45 \n",
    "    print(f\" you are {converted} pounds\")\n",
    "    \n",
    "    \n"
   ]
  },
  {
   "cell_type": "markdown",
   "metadata": {},
   "source": [
    "# while loops\n"
   ]
  },
  {
   "cell_type": "code",
   "execution_count": 9,
   "metadata": {},
   "outputs": [
    {
     "name": "stdout",
     "output_type": "stream",
     "text": [
      "1\n",
      "2\n",
      "3\n",
      "4\n",
      "5\n",
      "done\n"
     ]
    }
   ],
   "source": [
    "i = 1\n",
    "while i <= 5 :\n",
    "    print(i)\n",
    "    i = i + 1 \n",
    "print(\"done\")"
   ]
  },
  {
   "cell_type": "code",
   "execution_count": 9,
   "metadata": {},
   "outputs": [
    {
     "name": "stdout",
     "output_type": "stream",
     "text": [
      "Guess : 7\n",
      "Guess : 4\n",
      "You failed\n"
     ]
    }
   ],
   "source": [
    "Secret_Number = 8\n",
    "Guess_Count = 0\n",
    "Guess_limit = 2\n",
    "\n",
    "while Guess_Count < Guess_limit :\n",
    "    Guess = int(input(\"Guess : \"))\n",
    "    Guess_Count += 1\n",
    "    if  Guess == Secret_Number :\n",
    "        print(\"You Won!\")\n",
    "        Break\n",
    "else :\n",
    "    print(\"You failed\")"
   ]
  },
  {
   "cell_type": "code",
   "execution_count": 7,
   "metadata": {},
   "outputs": [
    {
     "name": "stdout",
     "output_type": "stream",
     "text": [
      ">  help\n",
      "\n",
      "start - To start the car\n",
      "stop - To stop the car\n",
      "quit - To quit\n",
      "             \n",
      ">  et\n",
      "i dont understand\n",
      ">  quit\n"
     ]
    }
   ],
   "source": [
    "command = \"\"\n",
    "\n",
    "while command != 'quit':\n",
    "    command = input('>  '  )\n",
    "    if command == 'start':\n",
    "        print('car started')\n",
    "    \n",
    "    elif command == 'stop':\n",
    "        print('car stopped')\n",
    "        \n",
    "    elif command == 'help':\n",
    "        print('''\n",
    "start - To start the car\n",
    "stop - To stop the car\n",
    "quit - To quit\n",
    "             ''')\n",
    "    elif command == 'quit' :\n",
    "        break\n",
    "        \n",
    "    else :\n",
    "        \n",
    "        print('i dont understand')"
   ]
  },
  {
   "cell_type": "code",
   "execution_count": 3,
   "metadata": {},
   "outputs": [
    {
     "name": "stdout",
     "output_type": "stream",
     "text": [
      ">  start\n",
      "car started ..\n",
      ">  start\n",
      "car has already started\n",
      ">  stop\n",
      "car stopped\n",
      ">  stop\n",
      "car has already stopped\n",
      ">  quit\n"
     ]
    }
   ],
   "source": [
    "command = \"\"\n",
    "started = False\n",
    "\n",
    "while command != 'quit':\n",
    "    command = input('>  '  )\n",
    "    if command == 'start':\n",
    "        if started :\n",
    "            print('car has already started')\n",
    "        else :\n",
    "            started = True \n",
    "            print('car started ..')\n",
    "                \n",
    "    \n",
    "    elif command == 'stop':\n",
    "        if not started :\n",
    "            print('car has already stopped')\n",
    "        else :\n",
    "            started = False \n",
    "            print('car stopped')\n",
    "        \n",
    "    elif command == 'help':\n",
    "        print('''\n",
    "start - To start the car\n",
    "stop - To stop the car\n",
    "quit - To quit\n",
    "             ''')\n",
    "    elif command == 'quit' :\n",
    "        break\n",
    "        \n",
    "    else :\n",
    "        \n",
    "        print('i dont understand')"
   ]
  },
  {
   "cell_type": "markdown",
   "metadata": {},
   "source": [
    "# for loops are used to repeat an action on each item in a set\n"
   ]
  },
  {
   "cell_type": "code",
   "execution_count": 2,
   "metadata": {},
   "outputs": [
    {
     "name": "stdout",
     "output_type": "stream",
     "text": [
      "10\n",
      "50\n",
      "30\n"
     ]
    }
   ],
   "source": [
    "for item in [10,50,30] :\n",
    "    print(item)\n"
   ]
  },
  {
   "cell_type": "code",
   "execution_count": 4,
   "metadata": {},
   "outputs": [
    {
     "name": "stdout",
     "output_type": "stream",
     "text": [
      "p\n",
      "y\n",
      "t\n",
      "h\n",
      "o\n",
      "n\n"
     ]
    }
   ],
   "source": [
    "for item in 'python' :\n",
    "    print(item)"
   ]
  },
  {
   "cell_type": "code",
   "execution_count": 12,
   "metadata": {},
   "outputs": [
    {
     "name": "stdout",
     "output_type": "stream",
     "text": [
      " Total: 10\n",
      " Total: 30\n",
      " Total: 60\n"
     ]
    }
   ],
   "source": [
    "prices = [10,20,30]\n",
    "total = 0\n",
    "for price in prices :\n",
    "    total = price + total \n",
    "    print(f\" Total: {total}\")\n",
    "    \n",
    "\n",
    "\n",
    "\n",
    "\n"
   ]
  },
  {
   "cell_type": "code",
   "execution_count": 13,
   "metadata": {},
   "outputs": [
    {
     "name": "stdout",
     "output_type": "stream",
     "text": [
      "apple\n",
      "banana\n",
      "cherry\n"
     ]
    }
   ],
   "source": [
    "fruits = [\"apple\", \"banana\", \"cherry\"]\n",
    "    \n",
    "for items in fruits:\n",
    "    print(items)\n",
    "\n",
    "     \n"
   ]
  },
  {
   "cell_type": "code",
   "execution_count": 11,
   "metadata": {},
   "outputs": [
    {
     "name": "stdout",
     "output_type": "stream",
     "text": [
      "apple\n",
      "butter\n",
      "avacado\n",
      "banana\n"
     ]
    }
   ],
   "source": [
    "# for loops can be used to bring out items in a block of list,tuple etc\n",
    "\n",
    "fruits = [\"apple\",\"butter\", \"avacado\", \"banana\", \"cherry\"]\n",
    "for items in fruits:\n",
    "  print(items)\n",
    "  if items == \"banana\":\n",
    "    break"
   ]
  },
  {
   "cell_type": "code",
   "execution_count": 12,
   "metadata": {},
   "outputs": [
    {
     "name": "stdout",
     "output_type": "stream",
     "text": [
      "apple\n"
     ]
    }
   ],
   "source": [
    "fruits = [\"apple\", \"banana\", \"cherry\"]\n",
    "for x in fruits:\n",
    "  if x == \"banana\":\n",
    "    break\n",
    "  print(x)\n",
    "\n"
   ]
  },
  {
   "cell_type": "code",
   "execution_count": 14,
   "metadata": {},
   "outputs": [
    {
     "name": "stdout",
     "output_type": "stream",
     "text": [
      "0\n",
      "1\n",
      "2\n",
      "3\n",
      "4\n",
      "5\n",
      "Finally finished!\n"
     ]
    }
   ],
   "source": [
    "# Else in For Loop\n",
    "# The else keyword in a for loop specifies a block of code to be executed when the loop is finished:\n",
    "\n",
    "# Example\n",
    "# Print all numbers from 0 to 5, and print a message when the loop has ended:\n",
    "\n",
    "for x in range(6):\n",
    "  print(x)\n",
    "else:\n",
    "  print(\"Finally finished!\")"
   ]
  },
  {
   "cell_type": "code",
   "execution_count": 18,
   "metadata": {},
   "outputs": [
    {
     "name": "stdout",
     "output_type": "stream",
     "text": [
      "0\n",
      "1\n",
      "2\n",
      "3\n",
      "4\n"
     ]
    }
   ],
   "source": [
    "for x in range(7) :\n",
    "    print(x)\n",
    "    if x == 4 :\n",
    "        break\n",
    "else :\n",
    "    print(\"finished\")"
   ]
  },
  {
   "cell_type": "code",
   "execution_count": 20,
   "metadata": {},
   "outputs": [
    {
     "name": "stdout",
     "output_type": "stream",
     "text": [
      "red apple\n",
      "red banana\n",
      "red cherry\n",
      "big apple\n",
      "big banana\n",
      "big cherry\n",
      "tasty apple\n",
      "tasty banana\n",
      "tasty cherry\n"
     ]
    }
   ],
   "source": [
    "# NESTED LOOPS\n",
    "\n",
    "adj = [\"red\", \"big\", \"tasty\"]\n",
    "fruits = [\"apple\", \"banana\", \"cherry\"]\n",
    "\n",
    "for x in adj:\n",
    "  for y in fruits:\n",
    "    print(x, y)"
   ]
  },
  {
   "cell_type": "code",
   "execution_count": 31,
   "metadata": {},
   "outputs": [
    {
     "name": "stdout",
     "output_type": "stream",
     "text": [
      "9\n"
     ]
    }
   ],
   "source": [
    "numbers = [2,4,5,5,6,7,8,9]\n",
    "max_numbers = numbers[6]\n",
    "\n",
    "for number in numbers :\n",
    "    if number > max_numbers :\n",
    "        print(number)"
   ]
  },
  {
   "cell_type": "code",
   "execution_count": 33,
   "metadata": {},
   "outputs": [
    {
     "name": "stdout",
     "output_type": "stream",
     "text": [
      "9\n"
     ]
    }
   ],
   "source": [
    "# A PROGRAM TO FIND THE LARGEST NUMBER IN A LIST\n",
    "\n",
    "numbers = [2,4,5,5,6,7,8,9]\n",
    "max = numbers[0]\n",
    "\n",
    "for number in numbers :\n",
    "    if number > max :\n",
    "        max = number\n",
    "print(number)"
   ]
  },
  {
   "cell_type": "code",
   "execution_count": 40,
   "metadata": {},
   "outputs": [
    {
     "data": {
      "text/plain": [
       "[107, 23, 24, 35, 67]"
      ]
     },
     "execution_count": 40,
     "metadata": {},
     "output_type": "execute_result"
    }
   ],
   "source": [
    "# LIST OPERATIONS\n",
    "\n",
    "a = [23,24,35,67]\n",
    "b = (45,46,47,87)\n",
    "\n",
    "a.insert(0,107 )\n",
    "a\n",
    "\n",
    "# WE USE INSERT TO ADD EXACTLY WHERE U WANT IN A LIST USING INDEXING AND OBJECT \n",
    "# CLEAR IS USED TO CLEAR ALL ITEM IN A LIST AND POP TO REMOVE LAST ITEM IN A LIST\n",
    "# in or a.indext(47)used to check for particular index in a list\n"
   ]
  },
  {
   "cell_type": "code",
   "execution_count": 24,
   "metadata": {},
   "outputs": [
    {
     "name": "stdout",
     "output_type": "stream",
     "text": [
      "[87, 54, 43, 9, 7, 6, 5, 4, 2]\n"
     ]
    }
   ],
   "source": [
    "numbers = [54,43,2,5,87,9,7,6,4]\n",
    "numbers.sort()\n",
    "numbers.reverse()\n",
    "print(numbers)"
   ]
  },
  {
   "cell_type": "code",
   "execution_count": 25,
   "metadata": {},
   "outputs": [
    {
     "name": "stdout",
     "output_type": "stream",
     "text": [
      "[]\n"
     ]
    }
   ],
   "source": [
    "numbers = [2,4,5,5,5,7,8,9,65,30]\n",
    "numbers.clear()\n",
    "print(numbers)"
   ]
  },
  {
   "cell_type": "code",
   "execution_count": 19,
   "metadata": {},
   "outputs": [
    {
     "data": {
      "text/plain": [
       "True"
      ]
     },
     "execution_count": 19,
     "metadata": {},
     "output_type": "execute_result"
    }
   ],
   "source": [
    "numbers = [2,4,5,5,6,7,8,9]\n",
    "9 in numbers"
   ]
  },
  {
   "cell_type": "code",
   "execution_count": 22,
   "metadata": {},
   "outputs": [
    {
     "name": "stdout",
     "output_type": "stream",
     "text": [
      "2\n"
     ]
    }
   ],
   "source": [
    "numbers = [2,4,5,5,6,7,8,9]\n",
    "print(numbers.count(5))\n"
   ]
  },
  {
   "cell_type": "code",
   "execution_count": null,
   "metadata": {},
   "outputs": [],
   "source": [
    "numbers = [2,4,5,5,5,7,8,9,65,30]\n",
    "\n",
    "print(numbers)\n",
    "\n"
   ]
  },
  {
   "cell_type": "code",
   "execution_count": 16,
   "metadata": {},
   "outputs": [
    {
     "name": "stdout",
     "output_type": "stream",
     "text": [
      "['ton', 'mosh', 'john', 'tobi']\n"
     ]
    }
   ],
   "source": [
    "names = ['tony','mosh','john','tobi']\n",
    "names[0] = 'ton'\n",
    "print(names)\n"
   ]
  },
  {
   "cell_type": "code",
   "execution_count": 28,
   "metadata": {},
   "outputs": [
    {
     "data": {
      "text/plain": [
       "['tony', 'mosh', 'john']"
      ]
     },
     "execution_count": 28,
     "metadata": {},
     "output_type": "execute_result"
    }
   ],
   "source": [
    "names = ['tony','mosh','john','tobi']\n",
    "names[:3]\n"
   ]
  },
  {
   "cell_type": "code",
   "execution_count": 29,
   "metadata": {},
   "outputs": [
    {
     "data": {
      "text/plain": [
       "2"
      ]
     },
     "execution_count": 29,
     "metadata": {},
     "output_type": "execute_result"
    }
   ],
   "source": [
    "names = ['tony','mosh','john','tobi']\n",
    "names.index('john')\n"
   ]
  },
  {
   "cell_type": "code",
   "execution_count": 31,
   "metadata": {},
   "outputs": [
    {
     "name": "stdout",
     "output_type": "stream",
     "text": [
      "['apple', 'banana', 'mango']\n"
     ]
    }
   ],
   "source": [
    "# Based on a list of fruits, you want a new list, containing only the fruits with the letter \"a\" in the name.\n",
    "\n",
    "# Without list comprehension you will have to write a for statement with a conditional test inside:\n",
    "\n",
    "\n",
    "fruits = [\"apple\", \"banana\", \"cherry\", \"kiwi\", \"mango\"]\n",
    "newlist = []\n",
    "\n",
    "for x in fruits:\n",
    "  if \"a\" in x:\n",
    "    newlist.append(x)\n",
    "\n",
    "print(newlist)"
   ]
  },
  {
   "cell_type": "code",
   "execution_count": 40,
   "metadata": {},
   "outputs": [
    {
     "name": "stdout",
     "output_type": "stream",
     "text": [
      "['banana', 'cherry', 'mango']\n"
     ]
    }
   ],
   "source": [
    "fruits = [\"apple\", \"banana\", \"cherry\", \"kiwi\", \"mango\"]\n",
    "fruits.remove(\"apple\")\n",
    "fruits.remove(\"kiwi\")\n",
    "print(fruits)"
   ]
  },
  {
   "cell_type": "code",
   "execution_count": 21,
   "metadata": {},
   "outputs": [
    {
     "name": "stdout",
     "output_type": "stream",
     "text": [
      "[2, 3, 4, 5, 7, 8, 9, 65, 30]\n"
     ]
    }
   ],
   "source": [
    "# REMOVING DUPLICATE FROM A LIST\n",
    " \n",
    "numbers = [2,2,3,3,4,4,5,5,5,7,8,9,65,30]\n",
    "unique_list = []\n",
    "\n",
    "for number in numbers :\n",
    "    if number not in unique_list :\n",
    "        unique_list.append(number)\n",
    "print(unique_list)"
   ]
  },
  {
   "cell_type": "markdown",
   "metadata": {},
   "source": [
    "# dictionaries"
   ]
  },
  {
   "cell_type": "code",
   "execution_count": 4,
   "metadata": {},
   "outputs": [
    {
     "name": "stdout",
     "output_type": "stream",
     "text": [
      "john smith\n"
     ]
    }
   ],
   "source": [
    "customer = {\n",
    "    'name':'john smith',\n",
    "    \"age\" : 20,\n",
    "    'is_verified':True }\n",
    "\n",
    "print(customer['name'])"
   ]
  },
  {
   "cell_type": "code",
   "execution_count": 13,
   "metadata": {},
   "outputs": [
    {
     "name": "stdout",
     "output_type": "stream",
     "text": [
      "osisioma abagana\n",
      "1990\n"
     ]
    }
   ],
   "source": [
    "customer = {\n",
    "    'name':'john smith',\n",
    "    \"age\" : 20,\n",
    "    'is_verified':True }\n",
    "\n",
    "customer['name'] = 'osisioma abagana'\n",
    "customer['birth_month'] = 1990\n",
    "\n",
    "print(customer['name'])\n",
    "print(customer['birth_month'])"
   ]
  },
  {
   "cell_type": "code",
   "execution_count": 19,
   "metadata": {},
   "outputs": [
    {
     "name": "stdout",
     "output_type": "stream",
     "text": [
      "{'age': 20, 'is_verified': True}\n"
     ]
    }
   ],
   "source": [
    "customer = {\n",
    "    'name':'john smith',\n",
    "    \"age\" : 20,\n",
    "    'is_verified':True }\n",
    "\n",
    "del customer['name'] \n",
    "\n",
    "print(customer)\n"
   ]
  },
  {
   "cell_type": "markdown",
   "metadata": {},
   "source": [
    "# functions"
   ]
  },
  {
   "cell_type": "code",
   "execution_count": 4,
   "metadata": {},
   "outputs": [
    {
     "name": "stdout",
     "output_type": "stream",
     "text": [
      "start\n",
      "Hi there!\n",
      "welcome abroad\n",
      "finish\n"
     ]
    }
   ],
   "source": [
    "def greet_user() :\n",
    "    print(\"Hi there!\")\n",
    "    print(\"welcome abroad\")\n",
    "\n",
    "print(\"start\")\n",
    "greet_user()\n",
    "print(\"finish\")"
   ]
  },
  {
   "cell_type": "code",
   "execution_count": 5,
   "metadata": {},
   "outputs": [
    {
     "name": "stdout",
     "output_type": "stream",
     "text": [
      "start\n",
      "Hi john!\n",
      "welcome abroad\n",
      "Hi mary!\n",
      "welcome abroad\n",
      "finish\n"
     ]
    }
   ],
   "source": [
    "def greet_user(name) :\n",
    "    print(f\"Hi {name}!\")\n",
    "    print(\"welcome abroad\")\n",
    "\n",
    "print(\"start\")\n",
    "greet_user(\"john\")\n",
    "greet_user(\"mary\")\n",
    "print(\"finish\")"
   ]
  },
  {
   "cell_type": "code",
   "execution_count": 6,
   "metadata": {},
   "outputs": [
    {
     "name": "stdout",
     "output_type": "stream",
     "text": [
      "start\n",
      "Hi john onu!\n",
      "welcome abroad\n",
      "Hi mary njoku!\n",
      "welcome abroad\n",
      "finish\n"
     ]
    }
   ],
   "source": [
    "def greet_user(first_name,last_name) :\n",
    "    print(f\"Hi {first_name} {last_name}!\")\n",
    "    print(\"welcome abroad\")\n",
    "\n",
    "print(\"start\")\n",
    "greet_user(\"john\",\"onu\")\n",
    "greet_user(\"mary\",\"njoku\")\n",
    "print(\"finish\")"
   ]
  },
  {
   "cell_type": "code",
   "execution_count": 4,
   "metadata": {},
   "outputs": [
    {
     "name": "stdout",
     "output_type": "stream",
     "text": [
      "start\n",
      "Hi 50 20 3!\n",
      "finish\n"
     ]
    }
   ],
   "source": [
    "# KEYWORD ARGUEMENT\n",
    "\n",
    "def greet_user(total_price,shipping_cost,percentage) :\n",
    "    print(f\"Hi {total_price} {shipping_cost} {percentage}!\")\n",
    "    \n",
    "\n",
    "print(\"start\")\n",
    "greet_user(total_price=50 ,shipping_cost=20 ,percentage=3)\n",
    "\n",
    "\n",
    "print(\"finish\")"
   ]
  },
  {
   "cell_type": "code",
   "execution_count": 5,
   "metadata": {},
   "outputs": [
    {
     "name": "stdout",
     "output_type": "stream",
     "text": [
      "start\n",
      "Hi 50 naira!\n",
      "finish\n"
     ]
    }
   ],
   "source": [
    "def greet_user(total_price,shipping_cost,percentage) :\n",
    "    print(f\"Hi {total_price} naira!\")\n",
    "    \n",
    "\n",
    "print(\"start\")\n",
    "greet_user(total_price=50 ,shipping_cost=20 ,percentage=3)\n",
    "\n",
    "\n",
    "print(\"finish\")\n",
    "    \n"
   ]
  },
  {
   "cell_type": "code",
   "execution_count": 42,
   "metadata": {},
   "outputs": [
    {
     "data": {
      "text/plain": [
       "16"
      ]
     },
     "execution_count": 42,
     "metadata": {},
     "output_type": "execute_result"
    }
   ],
   "source": [
    "# RETURN STATEMENT used when calculating \n",
    "\n",
    "def square(number):\n",
    "   return number * number\n",
    "\n",
    "square(4)\n",
    "    "
   ]
  },
  {
   "cell_type": "code",
   "execution_count": 5,
   "metadata": {},
   "outputs": [
    {
     "name": "stdout",
     "output_type": "stream",
     "text": [
      "The youngest child is Linus\n"
     ]
    }
   ],
   "source": [
    "# KEYWORD ARGUEMENT\n",
    "\n",
    "def my_name(child3, child2, child1):\n",
    "  print(\"The youngest child is \" + child3)\n",
    "\n",
    "my_name(child1 = \"Emil\", child2 = \"Tobias\", child3 = \"Linus\")"
   ]
  },
  {
   "cell_type": "code",
   "execution_count": 7,
   "metadata": {},
   "outputs": [
    {
     "name": "stdout",
     "output_type": "stream",
     "text": [
      "I am from Sweden\n",
      "I am from India\n"
     ]
    }
   ],
   "source": [
    "def my_function(country = \"Norway\"):\n",
    "  print(\"I am from \" + country)\n",
    "\n",
    "my_function(\"Sweden\")\n",
    "my_function(\"India\")"
   ]
  },
  {
   "cell_type": "markdown",
   "metadata": {},
   "source": [
    "# Error messages(how to clear error by users)"
   ]
  },
  {
   "cell_type": "code",
   "execution_count": 5,
   "metadata": {},
   "outputs": [
    {
     "name": "stdout",
     "output_type": "stream",
     "text": [
      "age:asd\n",
      "invalid value \n"
     ]
    }
   ],
   "source": [
    "try :\n",
    "    age = int(input(\"age:\"))\n",
    "    print(age)\n",
    "    \n",
    "except ValueError :\n",
    "    print(\"invalid value \")"
   ]
  },
  {
   "cell_type": "code",
   "execution_count": 7,
   "metadata": {},
   "outputs": [
    {
     "name": "stdout",
     "output_type": "stream",
     "text": [
      "age:0\n",
      "0\n",
      "age can't be 0\n"
     ]
    }
   ],
   "source": [
    "try :\n",
    "    age = int(input(\"age:\"))\n",
    "    print(age)\n",
    "    income = 2000\n",
    "    task = income/age\n",
    "    \n",
    "    \n",
    "except ZeroDivisionError :\n",
    "    print(\"age can't be 0\")\n",
    "except ValueError :\n",
    "    print(\"invalid value \")"
   ]
  },
  {
   "cell_type": "markdown",
   "metadata": {},
   "source": [
    "# classes"
   ]
  },
  {
   "cell_type": "code",
   "execution_count": 14,
   "metadata": {},
   "outputs": [
    {
     "name": "stdout",
     "output_type": "stream",
     "text": [
      "draw\n"
     ]
    }
   ],
   "source": [
    "class Point():\n",
    "    def move(self):\n",
    "        print(\"move\")\n",
    "        \n",
    "    def draw(self):\n",
    "        print(\"draw\")\n",
    "        \n",
    "        \n",
    "        \n",
    "Point1 = Point()\n",
    "Point1.draw()\n"
   ]
  },
  {
   "cell_type": "code",
   "execution_count": 18,
   "metadata": {},
   "outputs": [
    {
     "name": "stdout",
     "output_type": "stream",
     "text": [
      "John\n",
      "36\n"
     ]
    }
   ],
   "source": [
    "# Create a class named Person, use the __init__() function to assign values for name and age:\n",
    "\n",
    "class Person:\n",
    "  def __init__(self, name, age):\n",
    "    self.name = name\n",
    "    self.age = age\n",
    "\n",
    "p1 = Person(\"John\", 36)\n",
    "\n",
    "print(p1.name)\n",
    "print(p1.age)\n"
   ]
  },
  {
   "cell_type": "markdown",
   "metadata": {},
   "source": [
    "# modules"
   ]
  },
  {
   "cell_type": "code",
   "execution_count": null,
   "metadata": {},
   "outputs": [],
   "source": [
    "import converter\n",
    "\n",
    "print(converter.square(4))"
   ]
  },
  {
   "cell_type": "code",
   "execution_count": 13,
   "metadata": {},
   "outputs": [
    {
     "name": "stdout",
     "output_type": "stream",
     "text": [
      "guess:2\n",
      "guess:3\n",
      "guess:4\n",
      "guess:1\n",
      " The correct number is 5\n"
     ]
    }
   ],
   "source": [
    "import random\n",
    "random.randint(1,5)\n",
    "number = random.randint(1,5)\n",
    "guess_count = 0\n",
    "guess_limit = 4\n",
    "\n",
    "while guess_count < guess_limit:\n",
    "    guess = int(input(\"guess:\"))\n",
    "    guess_count += 1\n",
    "    \n",
    "    \n",
    "    if guess == number:\n",
    "        break\n",
    "\n",
    "else :\n",
    "    print(f\" The correct number is {number}\")\n",
    "        \n",
    "    \n",
    "\n",
    "\n",
    "    "
   ]
  },
  {
   "cell_type": "code",
   "execution_count": 7,
   "metadata": {},
   "outputs": [
    {
     "name": "stdout",
     "output_type": "stream",
     "text": [
      "guess:1\n",
      "guess:3\n",
      "guess:4\n",
      "guess:5\n",
      "you won\n"
     ]
    }
   ],
   "source": [
    "import random\n",
    "number = random.randint(1,5)\n",
    "\n",
    "for i in range(4):\n",
    "\n",
    "    guess = int(input(\"guess:\"))\n",
    "\n",
    "    if guess == number:\n",
    "        \n",
    "        print(\"you won\")\n",
    "        break\n",
    "\n",
    "else :\n",
    "    print(f\" The correct number is {number}\")"
   ]
  },
  {
   "cell_type": "code",
   "execution_count": 11,
   "metadata": {},
   "outputs": [
    {
     "data": {
      "text/plain": [
       "(2, 6)"
      ]
     },
     "execution_count": 11,
     "metadata": {},
     "output_type": "execute_result"
    }
   ],
   "source": [
    "def dice_row():\n",
    "    first = random.randint(1,6)\n",
    "    second = random.randint(1,6)\n",
    "    return first,second\n",
    "dice_row()"
   ]
  },
  {
   "cell_type": "code",
   "execution_count": 2,
   "metadata": {},
   "outputs": [
    {
     "name": "stdout",
     "output_type": "stream",
     "text": [
      "welcome to online quiz\n",
      "\n",
      "you are to answer only two questions\n",
      "do you want to play? yes\n",
      "whats Ceo name? tonero\n",
      "correct \n",
      "how old his he? 20\n",
      "incorrect\n",
      " you got 1 points\n"
     ]
    }
   ],
   "source": [
    "print(\"welcome to online quiz\")\n",
    "print()\n",
    "print(\"you are to answer only two questions\")\n",
    "score = 0\n",
    "\n",
    "playing = input(\"do you want to play? \")\n",
    "if playing != \"yes\":\n",
    "    quit()\n",
    "    \n",
    "\n",
    "number_one = input(\"whats Ceo name? \")\n",
    "if number_one == \"tonero\":\n",
    "        print(\"correct \")\n",
    "        score += 1\n",
    "else :\n",
    "        print(\"incorrect\")\n",
    "        \n",
    "number_two = input(\"how old his he? \")\n",
    "if number_two == \"25\":\n",
    "        print(\"correct \")\n",
    "        score += 1\n",
    "else :\n",
    "        print(\"incorrect\")\n",
    "        \n",
    "print(f\" you got {score} points\")"
   ]
  },
  {
   "cell_type": "code",
   "execution_count": null,
   "metadata": {},
   "outputs": [],
   "source": [
    "number = 5\n",
    "no = 4\n",
    "if number  > no :\n",
    "    quit()\n",
    "else:\n",
    "    print(number)"
   ]
  },
  {
   "cell_type": "code",
   "execution_count": null,
   "metadata": {},
   "outputs": [],
   "source": [
    "mode = input(\"would you like an existing password or a new one . you can quit\")\n",
    "\n",
    "while True:\n",
    "    if mode == \"quit\":\n",
    "        break\n",
    "\n",
    "    if mode == \"new one\":\n",
    "        pass\n",
    "    elif mode == \"existing \":\n",
    "        pass\n",
    "    else:\n",
    "        continue\n",
    "else:    \n",
    "    print(\"done\")"
   ]
  },
  {
   "cell_type": "code",
   "execution_count": 6,
   "metadata": {},
   "outputs": [
    {
     "ename": "SyntaxError",
     "evalue": "invalid syntax (<ipython-input-6-bda41073bec5>, line 11)",
     "output_type": "error",
     "traceback": [
      "\u001b[1;36m  File \u001b[1;32m\"<ipython-input-6-bda41073bec5>\"\u001b[1;36m, line \u001b[1;32m11\u001b[0m\n\u001b[1;33m    def rard(aa)\u001b[0m\n\u001b[1;37m                ^\u001b[0m\n\u001b[1;31mSyntaxError\u001b[0m\u001b[1;31m:\u001b[0m invalid syntax\n"
     ]
    }
   ],
   "source": [
    "import random\n",
    "a = ['tony','ify','jude','ozone']\n",
    "def rard():\n",
    "    picking_random = random.int(2,4)\n",
    "    picking = random.choice(a)\n",
    "    \n",
    "    return picking_random,picking\n",
    "\n",
    "\n",
    "\n",
    "def rard()\n"
   ]
  },
  {
   "cell_type": "code",
   "execution_count": null,
   "metadata": {},
   "outputs": [],
   "source": []
  }
 ],
 "metadata": {
  "kernelspec": {
   "display_name": "Python 3",
   "language": "python",
   "name": "python3"
  },
  "language_info": {
   "codemirror_mode": {
    "name": "ipython",
    "version": 3
   },
   "file_extension": ".py",
   "mimetype": "text/x-python",
   "name": "python",
   "nbconvert_exporter": "python",
   "pygments_lexer": "ipython3",
   "version": "3.7.0"
  }
 },
 "nbformat": 4,
 "nbformat_minor": 2
}
